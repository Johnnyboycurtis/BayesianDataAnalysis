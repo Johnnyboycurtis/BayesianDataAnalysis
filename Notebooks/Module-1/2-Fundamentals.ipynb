{
 "cells": [
  {
   "cell_type": "code",
   "execution_count": 2,
   "metadata": {
    "collapsed": true
   },
   "outputs": [],
   "source": [
    "import sys\n",
    "sys.path.append(\"../../\")\n",
    "\n",
    "\n",
    "from BDA.stats import *\n",
    "from BDA.plots import *"
   ]
  },
  {
   "cell_type": "code",
   "execution_count": null,
   "metadata": {
    "collapsed": true
   },
   "outputs": [],
   "source": []
  },
  {
   "cell_type": "markdown",
   "metadata": {},
   "source": [
    "## Continuous Normal Data\n",
    "\n",
    "The height of U.S. adult females is assumed to follow a normal distribution with unknown mean $\\theta$ and known variance $\\theta^2$. A random sample of n heights is denoted $y_1, ..., y_n$. Here the vector $y = (y_1, ..., y_n)^T$ represents the data gathered. The probability model for Normal data with known variance and indpendent and identically distributed (i.i.d.) samples is\n",
    "\n",
    "$$\n",
    "y_1, ..., y_n | \\theta \\sim N(\\theta, \\sigma^2)\n",
    "$$\n",
    "\n",
    "Or as more typically written by Bayesian,\n",
    "\n",
    "$$\n",
    "y_1, ..., y_n | \\theta \\sim N(\\theta, \\tau)\n",
    "$$\n",
    "\n",
    "where $\\tau = 1 / \\sigma^2$; $\\tau$ is known as the precision\n",
    "\n",
    "With this notation, the density for $y_i$ is then \n",
    "\n",
    "$$\n",
    "f(y_i | \\theta, \\tau) = \\sqrt(\\frac{\\tau}{2 \\pi}) \\times exp\\left( -\\tau (y_i - \\theta)^2 / 2 \\right)\n",
    "$$\n"
   ]
  },
  {
   "cell_type": "markdown",
   "metadata": {},
   "source": [
    "The joint density (or likelihood) for the sample $y = (y_1, ..., y_n)^T$ is \n",
    "\n",
    "$$\n",
    "\\begin{aligned}\n",
    "f(y|\\theta)  & = \\prod_{i=1}^n f(y_i | \\theta) \\\\\n",
    "& = \\prod_{i=1}^n  \\sqrt(\\frac{\\tau}{2 \\pi}) \\times exp\\left( -\\tau (y_i - \\theta)^2 / 2 \\right) \\\\\n",
    "& =  (\\frac{\\tau}{2 \\pi})^{n/2} \\times exp\\left( -\\tau / 2  \\times \\sum_{i=1}^n (y_i - \\theta)^2  \\right)  \\\\\n",
    "& = L(\\theta)\n",
    "\\end{aligned}\n",
    "$$"
   ]
  },
  {
   "cell_type": "markdown",
   "metadata": {},
   "source": [
    "From here, if we were interested in calculating the maximum likelihood for $\\mu$, we would first take the log of the likelihood,\n",
    "\n",
    "$$\n",
    "\\begin{aligned}\n",
    "log(L(\\theta)) & = \\left( (\\frac{\\tau}{2 \\pi})^{n/2} \\times exp\\left( -\\tau / 2  \\times \\sum_{i=1}^n (y_i - \\theta)^2  \\right) \\right) \\\\\n",
    "& = (n/2) log(\\frac{\\tau}{2 \\pi}) + \\left( -\\tau / 2  \\times \\sum_{i=1}^n (y_i - \\theta)^2  \\right)\n",
    "\\end{aligned}\n",
    "$$"
   ]
  },
  {
   "cell_type": "markdown",
   "metadata": {},
   "source": [
    "Next, take the derivative with respect to $\\theta$ and set it equal to zero.\n",
    "\n",
    "$$\n",
    "\\begin{aligned}\n",
    "\\frac{d}{d \\theta}log(L(\\theta)) & = \\tau  \\times \\sum_{i=1}^n (y_i - \\theta) = 0 \\\\\n",
    "& = \\sum_{i=1}^n y_i  - n \\times \\theta = 0 \\\\\n",
    "\\theta & = \\sum_{i=1}^n y_i / n = \\bar{y} \\\\\n",
    "\\end{aligned}\n",
    "$$\n",
    "\n",
    "Thus, classical statistics gives us an estimate of $\\hat{\\theta} = \\bar{y}$"
   ]
  },
  {
   "cell_type": "code",
   "execution_count": null,
   "metadata": {
    "collapsed": true
   },
   "outputs": [],
   "source": []
  },
  {
   "cell_type": "code",
   "execution_count": null,
   "metadata": {
    "collapsed": true
   },
   "outputs": [],
   "source": []
  },
  {
   "cell_type": "markdown",
   "metadata": {},
   "source": [
    "In a Bayesian perspective, we'd append maximum likelihood with prior information. A choice of priors for this Normal data model is another Normal distribution for $\\theta$. The Normal distribution is [conjugate](https://en.wikipedia.org/wiki/Conjugate_prior#Continuous_distributions) to the Normal distribution.\n",
    "\n",
    "$$\n",
    "\\theta \\sim N(a,1/b)\n",
    "$$\n",
    "\n",
    "The posterior distribution we obtain from this Normal-Normal (after a lot of algebra) model is another Normal distribution (so many Normals!)\n",
    "\n",
    "$$\n",
    "\\theta | y \\sim N(\\frac{b}{b + n\\tau} a + \\frac{n \\tau}{b + n \\tau} \\bar{y}, \\frac{1}{b + n\\tau})\n",
    "$$\n",
    "\n",
    "\n",
    "The posterior precision is $b + n\\tau$ and mean is a weighted mean between $a$ and $\\bar{y}$, $\\frac{b}{b + n\\tau} a + \\frac{n \\tau}{b + n \\tau} \\bar{y}$."
   ]
  },
  {
   "cell_type": "code",
   "execution_count": null,
   "metadata": {
    "collapsed": true
   },
   "outputs": [],
   "source": []
  },
  {
   "cell_type": "markdown",
   "metadata": {
    "collapsed": true
   },
   "source": [
    "## Count Data: Poisson Models\n",
    "\n",
    "\n",
    "Consider a sample of counts $y = (y_1, ..., y_n)^T$ modeled as \n",
    "\n",
    "$$\n",
    "y_i | \\theta \\sim Pois(\\theta) \n",
    "$$\n",
    "\n",
    "The Poisson has pmf\n",
    "\n",
    "$$\n",
    "f(y_i | \\theta) = \\frac{\\theta^{y_i} e^{-\\theta}}{y_i!} \\text{ for } y_i > 0\n",
    "$$\n",
    "\n",
    "The likelihood is \n",
    "\n",
    "$$\n",
    "\\begin{aligned}\n",
    "L(\\theta | y) & = \\prod_{i=1}^n \\frac{\\theta^{y_i} e^{-\\theta}}{y_i!} \\\\ \n",
    "& \\propto \\prod_{i=1}^n \\theta^{y_i} e^{-\\theta}\\\\\n",
    "& \\propto \\theta^{\\sum y_i} e^{-n\\theta} \\\\\n",
    "\\end{aligned}\n",
    "$$\n",
    "\n",
    "\n",
    "OR...if you want to keep the constant..\n",
    "$$\n",
    "\\begin{aligned}\n",
    "L(\\theta | y) & = \\frac{1}{\\prod_{i=1}^n y_i!} \\times \\theta^{\\sum y_i} e^{-n\\theta} \n",
    "\\end{aligned}\n",
    "$$\n"
   ]
  },
  {
   "cell_type": "markdown",
   "metadata": {
    "collapsed": true
   },
   "source": [
    "The conjugate prior for $\\theta$ is Gamma(a,b) with density\n",
    "\n",
    "$$\n",
    "\\begin{aligned}\n",
    "f(\\theta | a,b) & = \\frac{b^a}{\\Gamma(a)} \\theta^{a-1} e^{-b \\theta } \\\\\n",
    "& \\propto \\theta^{a-1} e^{-b \\theta }\n",
    "\\end{aligned}\n",
    "$$\n",
    "\n",
    "where a can be interpreted as the shape parameter and b the rate parameter. Both a > 0 and b > 0."
   ]
  },
  {
   "cell_type": "markdown",
   "metadata": {
    "collapsed": true
   },
   "source": [
    "The posterior density becomes\n",
    "\n",
    "$$\n",
    "\\begin{aligned}\n",
    "p(\\theta | y ) & =  \\frac{L(\\theta | y) f(\\theta | a,b)}{\\int L(\\theta | y) f(\\theta | a,b) d \\theta} \\\\\n",
    "& \\propto L(\\theta | y) f(\\theta | a,b) \\\\\n",
    "& \\propto \\theta^{\\sum y_i} e^{-n\\theta} \\times \\theta^{a-1} e^{-b \\theta } \\\\\n",
    "& = \\theta^{\\sum y_i + a - 1} e^{-n \\theta - b \\theta } \\\\\n",
    "& = \\theta^{\\sum y_i + a - 1} e^{-(n +b) \\theta } \\\\\n",
    "& \\propto Gamma(a + \\sum y_i, b + n) \\\\\n",
    "& \\text{or let } \\sum y_i = n\\bar{y} \\text{ then } \\\\\n",
    "& \\propto Gamma(a + n\\bar{y}, b + n)\n",
    "\\end{aligned}\n",
    "$$\n",
    "\n",
    "\n",
    "The prior $Gamma(a, b)$  has mean\n",
    "\n",
    "$$\n",
    "E[\\theta | a,b ] =\\frac{a}{b}\n",
    "$$\n",
    "\n",
    "and posterior $Gamma(a + n\\bar{y}, b + n)$ has mean\n",
    "\n",
    "$$\n",
    "E[\\theta | y] = \\frac{a + n\\bar{y}}{b+n} \\text{ which can be rewritten as } \\\\\n",
    "=  \\left(\\frac{b}{b+n} \\right) \\left(\\frac{a}{b} \\right) + \\left(\\frac{n}{b+n} \\right) \\bar{y}\n",
    "$$\n",
    "\n",
    "which is a weighted average of the prior mean and posterior mean.\n",
    "\n",
    "The weight on the sample mean is large if the sample size $n$ is large relative to the prior parameter $b$. So for a very large sample size, it is possible that the sample mean and posterior mean would be very similar."
   ]
  },
  {
   "cell_type": "code",
   "execution_count": null,
   "metadata": {
    "collapsed": true
   },
   "outputs": [],
   "source": []
  },
  {
   "cell_type": "code",
   "execution_count": null,
   "metadata": {
    "collapsed": true
   },
   "outputs": [],
   "source": []
  },
  {
   "cell_type": "code",
   "execution_count": null,
   "metadata": {
    "collapsed": true
   },
   "outputs": [],
   "source": []
  },
  {
   "cell_type": "code",
   "execution_count": null,
   "metadata": {
    "collapsed": true
   },
   "outputs": [],
   "source": []
  },
  {
   "cell_type": "code",
   "execution_count": null,
   "metadata": {
    "collapsed": true
   },
   "outputs": [],
   "source": []
  }
 ],
 "metadata": {
  "kernelspec": {
   "display_name": "Python 3",
   "language": "python",
   "name": "python3"
  },
  "language_info": {
   "codemirror_mode": {
    "name": "ipython",
    "version": 3
   },
   "file_extension": ".py",
   "mimetype": "text/x-python",
   "name": "python",
   "nbconvert_exporter": "python",
   "pygments_lexer": "ipython3",
   "version": "3.6.2"
  }
 },
 "nbformat": 4,
 "nbformat_minor": 2
}

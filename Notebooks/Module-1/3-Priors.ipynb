{
 "cells": [
  {
   "cell_type": "markdown",
   "metadata": {},
   "source": [
    "# Prior Probability\n",
    "\n",
    "\n",
    "Bayesian statistical methods rely only good choices for priors. Prior probability distributions allow the scientist/analyst to add information that is needed for analysis. However, sometimes the scientist does not have clear insight to the problem to add prior information. \n",
    "\n",
    "There are many types of priors, but the above situations create two types of priors:\n",
    "\n",
    "1. Informative priors\n",
    "\n",
    "2. Noninformative priors\n",
    "\n",
    "Informative priors are sometimes calculated using belief of what values should be. Uninformative priors can sometimes be flat, where the scientist does not try to elicit any meaningful information. From noninformative priors, scientsts sometimes create imporoper priors.\n",
    "\n"
   ]
  },
  {
   "cell_type": "markdown",
   "metadata": {},
   "source": [
    "## Choosing a Prior\n",
    "\n",
    "There are three ways to choose a prior\n",
    "\n",
    "1. Subjectivity\n",
    "\n",
    " - Where the scientist subjectively chooses a distribution that elicits that person's personal beliefs.\n",
    "\n",
    "2. Objective and informative\n",
    "\n",
    " - The scientist may have historical information or data that can be used to help formulate a prior.\n",
    " \n",
    "3. Noninformative\n",
    "\n",
    " - A noninformative prior is one that expresses ignorance as to the value of $\\theta$. Other terms for a noninformative prior are *reference prior*, diffuse prior and vague prior.\n",
    " \n",
    " - In general, a noninformative prior produces a posterior distribution whose information is dominated by the likelihood function.\n",
    " \n",
    " - Will produce estimates approximate to those of Maximum Likelihood Estimation"
   ]
  },
  {
   "cell_type": "markdown",
   "metadata": {},
   "source": [
    "\n",
    "\n",
    "## Conjugate Priors\n",
    "\n",
    "A prior is said to be a conjugate prior for a family of distributions if the prior and posterior distributions are from the same family, which means that the form of the posterior has the same distributional form as the prior distribution. \n",
    "\n",
    "For example, given data $y = (y_1, ..., y_n)^T$, where $y_i \\sim Bin(n, \\theta)$, the likelihood is binomial. A conjugate prior on  is the beta distribution. It follows that the posterior distribution of  is also a beta distribution. \n",
    "\n",
    "Other commonly used conjugate prior/likelihood combinations include the normal/normal, gamma/Poisson, gamma/gamma, and gamma/beta cases. See this [Wikipedia page](https://en.wikipedia.org/wiki/Conjugate_prior#Table_of_conjugate_distributions) for a table of cojugate priors."
   ]
  },
  {
   "cell_type": "markdown",
   "metadata": {},
   "source": [
    "## Informative Prior\n",
    "\n",
    "An informative prior is a prior that is not dominated by the likelihood and that has an impact on the posterior distribution. If a prior distribution dominates the likelihood, it is clearly an informative prior. These types of distributions must be specified with care in actual practice. \n",
    "\n",
    "\n",
    "## Noninformative Prior\n",
    "\n",
    "Roughly speaking, a prior distribution is noninformative if the prior is *flat* relative to the likelihood function. Thus, a prior  is noninformative if it has minimal impact on the posterior distribution of $\\theta$.  \n",
    "\n",
    "Many statisticians favor noninformative priors because they appear to be more objective. \n",
    "\n",
    "However, it is unrealistic to expect that noninformative priors represent total ignorance about the parameter of interest. In some cases, noninformative priors can lead to improper posteriors (nonintegrable posterior density). You cannot make inferences with improper posterior distributions. \n",
    "\n",
    "A common choice for a noninformative prior is the flat prior, which is a prior distribution that assigns equal likelihood on all possible values of the parameter. \n",
    "\n",
    "## Improper Priors\n",
    "\n",
    "An example of an improper prior for $\\theta ~ p(\\theta)$ is simply $p(\\theta) = 1$\n",
    "\n",
    "Why is a flat prior like $p(\\theta) = c$, where c is a constant, improper?\n",
    "\n",
    "Because $\\int_{-\\infty}^{\\infty}p(\\theta) = \\infty$ which violates the property of a probability distribution. The integral of probability distribution should equal to 1.\n"
   ]
  },
  {
   "cell_type": "markdown",
   "metadata": {},
   "source": [
    "## Jeffrey's Priors\n",
    "\n",
    "In 1961, Sir Harold Jeffreys proposed a class of priors for Bayesian probs. Many peple view them as being \"noninformative\". This class of priors satisfies the local uniformity property: a prior that does not change much over the region in which the likelihood is significant and does not assume large values outside that range. It is based on the [Fisher information matrix](https://arxiv.org/pdf/1705.01064.pdf). Jeffreys’ prior is defined as\n",
    "\n",
    "$$\n",
    "p(\\theta) \\propto \\left| I(\\theta) \\right|^{1/2}\n",
    "$$\n",
    "\n",
    "where $| \\cdot |$ denotes the determinant and $I(\\theta)$ is the Fisher information matrix based on the likelihood function $L(\\theta|y)$.\n",
    "\n",
    "\n",
    "$$\n",
    "I(\\theta)  = - E \\left[ \\frac{d^2 L(\\theta|y)}{d\\theta^2} \\right]\n",
    "$$"
   ]
  },
  {
   "cell_type": "markdown",
   "metadata": {},
   "source": []
  },
  {
   "cell_type": "markdown",
   "metadata": {},
   "source": []
  },
  {
   "cell_type": "markdown",
   "metadata": {},
   "source": []
  },
  {
   "cell_type": "markdown",
   "metadata": {},
   "source": [
    "Reference: \n",
    "\n",
    "1. [Informative and noninformative priors](http://andrewgelman.com/2007/07/18/informative_and/)\n",
    "\n",
    "2. [Prior Distributions](https://support.sas.com/documentation/cdl/en/statug/63033/HTML/default/viewer.htm#statug_introbayes_sect004.htm)"
   ]
  },
  {
   "cell_type": "code",
   "execution_count": null,
   "metadata": {
    "collapsed": true
   },
   "outputs": [],
   "source": []
  }
 ],
 "metadata": {
  "kernelspec": {
   "display_name": "Python 3",
   "language": "python",
   "name": "python3"
  },
  "language_info": {
   "codemirror_mode": {
    "name": "ipython",
    "version": 3
   },
   "file_extension": ".py",
   "mimetype": "text/x-python",
   "name": "python",
   "nbconvert_exporter": "python",
   "pygments_lexer": "ipython3",
   "version": "3.6.2"
  }
 },
 "nbformat": 4,
 "nbformat_minor": 2
}

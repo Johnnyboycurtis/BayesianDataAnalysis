{
 "cells": [
  {
   "cell_type": "code",
   "execution_count": 1,
   "metadata": {
    "collapsed": true
   },
   "outputs": [],
   "source": [
    "from matplotlib import pyplot as plt\n",
    "import numpy as np\n",
    "import pymc3 as pm\n",
    "from pymc3.distributions.timeseries import GaussianRandomWalk\n",
    "import seaborn as sns\n",
    "from statsmodels import datasets\n",
    "from theano import tensor as T"
   ]
  },
  {
   "cell_type": "code",
   "execution_count": 2,
   "metadata": {
    "collapsed": true
   },
   "outputs": [],
   "source": [
    "df = datasets.get_rdataset('mastectomy', 'HSAUR', cache=True).data\n",
    "df.event = df.event.astype(np.int64)\n",
    "df.metastized = (df.metastized == 'yes').astype(np.int64)\n",
    "n_patients = df.shape[0]\n",
    "patients = np.arange(n_patients)"
   ]
  },
  {
   "cell_type": "code",
   "execution_count": 3,
   "metadata": {},
   "outputs": [
    {
     "data": {
      "text/html": [
       "<div>\n",
       "<style>\n",
       "    .dataframe thead tr:only-child th {\n",
       "        text-align: right;\n",
       "    }\n",
       "\n",
       "    .dataframe thead th {\n",
       "        text-align: left;\n",
       "    }\n",
       "\n",
       "    .dataframe tbody tr th {\n",
       "        vertical-align: top;\n",
       "    }\n",
       "</style>\n",
       "<table border=\"1\" class=\"dataframe\">\n",
       "  <thead>\n",
       "    <tr style=\"text-align: right;\">\n",
       "      <th></th>\n",
       "      <th>time</th>\n",
       "      <th>event</th>\n",
       "      <th>metastized</th>\n",
       "    </tr>\n",
       "  </thead>\n",
       "  <tbody>\n",
       "    <tr>\n",
       "      <th>0</th>\n",
       "      <td>23</td>\n",
       "      <td>1</td>\n",
       "      <td>0</td>\n",
       "    </tr>\n",
       "    <tr>\n",
       "      <th>1</th>\n",
       "      <td>47</td>\n",
       "      <td>1</td>\n",
       "      <td>0</td>\n",
       "    </tr>\n",
       "    <tr>\n",
       "      <th>2</th>\n",
       "      <td>69</td>\n",
       "      <td>1</td>\n",
       "      <td>0</td>\n",
       "    </tr>\n",
       "    <tr>\n",
       "      <th>3</th>\n",
       "      <td>70</td>\n",
       "      <td>0</td>\n",
       "      <td>0</td>\n",
       "    </tr>\n",
       "    <tr>\n",
       "      <th>4</th>\n",
       "      <td>100</td>\n",
       "      <td>0</td>\n",
       "      <td>0</td>\n",
       "    </tr>\n",
       "  </tbody>\n",
       "</table>\n",
       "</div>"
      ],
      "text/plain": [
       "   time  event  metastized\n",
       "0    23      1           0\n",
       "1    47      1           0\n",
       "2    69      1           0\n",
       "3    70      0           0\n",
       "4   100      0           0"
      ]
     },
     "execution_count": 3,
     "metadata": {},
     "output_type": "execute_result"
    }
   ],
   "source": [
    "df.head()"
   ]
  },
  {
   "cell_type": "code",
   "execution_count": 4,
   "metadata": {},
   "outputs": [
    {
     "data": {
      "text/plain": [
       "44"
      ]
     },
     "execution_count": 4,
     "metadata": {},
     "output_type": "execute_result"
    }
   ],
   "source": [
    "n_patients"
   ]
  },
  {
   "cell_type": "markdown",
   "metadata": {},
   "source": [
    "Each row represents observations from a woman diagnosed with breast cancer that underwent a mastectomy. The column time represents the time (in months) post-surgery that the woman was observed. The column event indicates whether or not the woman died during the observation period. The column metastized represents whether the cancer had metastized prior to surgery.\n",
    "\n",
    "This tutorial analyzes the relationship between survival time post-mastectomy and whether or not the cancer had metastized."
   ]
  },
  {
   "cell_type": "code",
   "execution_count": 5,
   "metadata": {},
   "outputs": [
    {
     "data": {
      "text/plain": [
       "0.59090909090909094"
      ]
     },
     "execution_count": 5,
     "metadata": {},
     "output_type": "execute_result"
    }
   ],
   "source": [
    "df.event.mean()\n"
   ]
  },
  {
   "cell_type": "code",
   "execution_count": 8,
   "metadata": {},
   "outputs": [
    {
     "data": {
      "image/png": "[encoded data removed]",
      "text/plain": [
       "<matplotlib.figure.Figure at 0x7eff88411278>"
      ]
     },
     "metadata": {},
     "output_type": "display_data"
    }
   ],
   "source": [
    "fig, ax = plt.subplots(figsize=(8, 6))\n",
    "\n",
    "blue, _, red = sns.color_palette()[:3]\n",
    "\n",
    "ax.hlines(patients[df.event.values == 0], 0, df[df.event.values == 0].time,\n",
    "          color=blue, label='Censored')\n",
    "\n",
    "ax.hlines(patients[df.event.values == 1], 0, df[df.event.values == 1].time,\n",
    "          color=red, label='Uncensored')\n",
    "\n",
    "ax.scatter(df[df.metastized.values == 1].time, patients[df.metastized.values == 1],\n",
    "           color='k', zorder=10, label='Metastized')\n",
    "\n",
    "ax.set_xlim(left=0)\n",
    "ax.set_xlabel('Months since mastectomy')\n",
    "ax.set_yticks([])\n",
    "ax.set_ylabel('Subject')\n",
    "\n",
    "ax.set_ylim(-0.25, n_patients + 0.25)\n",
    "\n",
    "ax.legend(loc='center right');\n",
    "plt.show()"
   ]
  },
  {
   "cell_type": "code",
   "execution_count": null,
   "metadata": {
    "collapsed": true
   },
   "outputs": [],
   "source": []
  },
  {
   "cell_type": "markdown",
   "metadata": {},
   "source": [
    "In order to perform Bayesian inference with the Cox model, we must specify priors on $\\beta$ and $h_0(t)$. We place a normal prior on $\\beta$, $\\beta \\sim N(\\mu_{\\beta}, \\sigma^2_{\\beta})$, where $\\mu_{\\beta} \\sim N(0, 10^2)$ and $\\sigma_{\\beta} \\sim U(0, 10)$.\n",
    "\n",
    "A suitable prior on $h_0(t)$ is less obvious. We choose a semiparametric prior, where $h_0(t) = h_j$ if $x_j \\leq t < s_{j+1}$. With $h_0(t)$ constrained to have this form, all we need to do is choose priors for the $N-1$ values $h_j$. We use independent priors $h_j \\sim Gammma(10^{-2}, 10^{-2}).$ For our mastectomy example, we make each interval three months long."
   ]
  },
  {
   "cell_type": "code",
   "execution_count": 13,
   "metadata": {},
   "outputs": [
    {
     "data": {
      "text/plain": [
       "array([  0,   3,   6,   9,  12,  15,  18,  21,  24,  27,  30,  33,  36,\n",
       "        39,  42,  45,  48,  51,  54,  57,  60,  63,  66,  69,  72,  75,\n",
       "        78,  81,  84,  87,  90,  93,  96,  99, 102, 105, 108, 111, 114,\n",
       "       117, 120, 123, 126, 129, 132, 135, 138, 141, 144, 147, 150, 153,\n",
       "       156, 159, 162, 165, 168, 171, 174, 177, 180, 183, 186, 189, 192,\n",
       "       195, 198, 201, 204, 207, 210, 213, 216, 219, 222, 225, 228])"
      ]
     },
     "execution_count": 13,
     "metadata": {},
     "output_type": "execute_result"
    }
   ],
   "source": [
    "interval_length = 3\n",
    "interval_bounds = np.arange(0, df.time.max() + interval_length + 1, interval_length)\n",
    "interval_bounds"
   ]
  },
  {
   "cell_type": "code",
   "execution_count": 16,
   "metadata": {},
   "outputs": [],
   "source": [
    "n_intervals = interval_bounds.size - 1 ## 76\n",
    "intervals = np.arange(n_intervals)\n",
    "#n_intervals"
   ]
  },
  {
   "cell_type": "code",
   "execution_count": null,
   "metadata": {
    "collapsed": true
   },
   "outputs": [],
   "source": []
  },
  {
   "cell_type": "code",
   "execution_count": 10,
   "metadata": {},
   "outputs": [
    {
     "data": {
      "image/png": "[encoded data removed]",
      "text/plain": [
       "<matplotlib.figure.Figure at 0x7eff8fd831d0>"
      ]
     },
     "metadata": {},
     "output_type": "display_data"
    }
   ],
   "source": [
    "fig, ax = plt.subplots(figsize=(8, 6))\n",
    "\n",
    "ax.hist(df[df.event == 1].time.values, bins=interval_bounds,\n",
    "        color=red, alpha=0.5, lw=0,\n",
    "        label='Uncensored');\n",
    "ax.hist(df[df.event == 0].time.values, bins=interval_bounds,\n",
    "        color=blue, alpha=0.5, lw=0,\n",
    "        label='Censored');\n",
    "\n",
    "ax.set_xlim(0, interval_bounds[-1]);\n",
    "ax.set_xlabel('Months since mastectomy');\n",
    "\n",
    "ax.set_yticks([0, 1, 2, 3]);\n",
    "ax.set_ylabel('Number of observations');\n",
    "\n",
    "ax.legend();\n",
    "plt.show()"
   ]
  },
  {
   "cell_type": "code",
   "execution_count": 11,
   "metadata": {
    "collapsed": true
   },
   "outputs": [],
   "source": [
    "last_period = np.floor((df.time - 0.01) / interval_length).astype(int)\n",
    "\n",
    "death = np.zeros((n_patients, n_intervals))\n",
    "death[patients, last_period] = df.event"
   ]
  },
  {
   "cell_type": "code",
   "execution_count": 24,
   "metadata": {},
   "outputs": [
    {
     "data": {
      "text/plain": [
       "array([[3, 3, 3, ..., 0, 0, 0],\n",
       "       [3, 3, 3, ..., 0, 0, 0],\n",
       "       [3, 3, 3, ..., 0, 0, 0],\n",
       "       ..., \n",
       "       [3, 3, 3, ..., 0, 0, 0],\n",
       "       [3, 3, 3, ..., 0, 0, 0],\n",
       "       [3, 3, 3, ..., 3, 3, 3]])"
      ]
     },
     "execution_count": 24,
     "metadata": {},
     "output_type": "execute_result"
    }
   ],
   "source": [
    "exposure = np.greater_equal.outer(df.time, interval_bounds[:-1]) * interval_length\n",
    "exposure"
   ]
  },
  {
   "cell_type": "code",
   "execution_count": 25,
   "metadata": {},
   "outputs": [
    {
     "data": {
      "text/plain": [
       "array([[3, 3, 3, ..., 0, 0, 0],\n",
       "       [3, 3, 3, ..., 0, 0, 0],\n",
       "       [3, 3, 3, ..., 0, 0, 0],\n",
       "       ..., \n",
       "       [3, 3, 3, ..., 0, 0, 0],\n",
       "       [3, 3, 3, ..., 0, 0, 0],\n",
       "       [3, 3, 3, ..., 3, 3, 3]])"
      ]
     },
     "execution_count": 25,
     "metadata": {},
     "output_type": "execute_result"
    }
   ],
   "source": [
    "exposure[patients, last_period] = df.time - interval_bounds[last_period]\n",
    "exposure"
   ]
  },
  {
   "cell_type": "code",
   "execution_count": 18,
   "metadata": {
    "collapsed": true
   },
   "outputs": [],
   "source": [
    "SEED = 5078864 # from random.org\n"
   ]
  },
  {
   "cell_type": "code",
   "execution_count": 20,
   "metadata": {},
   "outputs": [],
   "source": [
    "with pm.Model() as model:\n",
    "\n",
    "    lambda0 = pm.Gamma('lambda0', 0.01, 0.01, shape=n_intervals)\n",
    "\n",
    "    beta = pm.Normal('beta', 0, sd=1000)\n",
    "\n",
    "    lambda_ = pm.Deterministic('lambda_', T.outer(T.exp(beta * df.metastized), lambda0))\n",
    "    mu = pm.Deterministic('mu', exposure * lambda_)\n",
    "\n",
    "    obs = pm.Poisson('obs', mu, observed=death)"
   ]
  },
  {
   "cell_type": "code",
   "execution_count": null,
   "metadata": {
    "collapsed": true
   },
   "outputs": [],
   "source": []
  },
  {
   "cell_type": "code",
   "execution_count": 21,
   "metadata": {
    "collapsed": true
   },
   "outputs": [],
   "source": [
    "n_samples = 1000\n",
    "n_tune = 1000"
   ]
  },
  {
   "cell_type": "code",
   "execution_count": 22,
   "metadata": {
    "scrolled": true
   },
   "outputs": [
    {
     "name": "stderr",
     "output_type": "stream",
     "text": [
      "Auto-assigning NUTS sampler...\n",
      "Initializing NUTS using jitter+adapt_diag...\n",
      "100%|█████████▉| 1999/2000 [02:37<00:00, 12.68it/s]/home/jonathan/miniconda3/lib/python3.6/site-packages/pymc3/step_methods/hmc/nuts.py:467: UserWarning: Chain 0 contains 68 diverging samples after tuning. If increasing `target_accept` does not help try to reparameterize.\n",
      "  % (self._chain_id, n_diverging))\n",
      "100%|██████████| 2000/2000 [02:37<00:00, 12.68it/s]\n"
     ]
    }
   ],
   "source": [
    "with model:\n",
    "    trace = pm.sample(n_samples, tune=n_tune, random_seed=SEED)"
   ]
  },
  {
   "cell_type": "code",
   "execution_count": 23,
   "metadata": {},
   "outputs": [
    {
     "data": {
      "text/plain": [
       "2.1302253944313287"
      ]
     },
     "execution_count": 23,
     "metadata": {},
     "output_type": "execute_result"
    }
   ],
   "source": [
    "np.exp(trace['beta'].mean())"
   ]
  },
  {
   "cell_type": "code",
   "execution_count": 28,
   "metadata": {},
   "outputs": [
    {
     "data": {
      "image/png": "[encoded data removed]",
      "text/plain": [
       "<matplotlib.figure.Figure at 0x7eff7ff24cc0>"
      ]
     },
     "metadata": {},
     "output_type": "display_data"
    }
   ],
   "source": [
    "pm.plot_posterior(trace, varnames=['beta'], color='#87ceeb');\n",
    "plt.show()"
   ]
  },
  {
   "cell_type": "code",
   "execution_count": 29,
   "metadata": {},
   "outputs": [
    {
     "data": {
      "image/png": "[encoded data removed]",
      "text/plain": [
       "<matplotlib.figure.Figure at 0x7eff8843e0f0>"
      ]
     },
     "metadata": {},
     "output_type": "display_data"
    }
   ],
   "source": [
    "pm.autocorrplot(trace, varnames=['beta']);\n",
    "plt.show()"
   ]
  },
  {
   "cell_type": "code",
   "execution_count": null,
   "metadata": {
    "collapsed": true
   },
   "outputs": [],
   "source": []
  },
  {
   "cell_type": "code",
   "execution_count": 31,
   "metadata": {
    "collapsed": true
   },
   "outputs": [],
   "source": [
    "# We now examine the effect of metastization on both the \n",
    "# cumulative hazard and on the survival function.\n",
    "base_hazard = trace['lambda0']\n",
    "met_hazard = trace['lambda0'] * np.exp(np.atleast_2d(trace['beta']).T)"
   ]
  },
  {
   "cell_type": "code",
   "execution_count": 32,
   "metadata": {
    "collapsed": true
   },
   "outputs": [],
   "source": [
    "\n",
    "def cum_hazard(hazard):\n",
    "    return (interval_length * hazard).cumsum(axis=-1)\n",
    "\n",
    "def survival(hazard):\n",
    "    return np.exp(-cum_hazard(hazard))"
   ]
  },
  {
   "cell_type": "code",
   "execution_count": 35,
   "metadata": {
    "collapsed": true
   },
   "outputs": [],
   "source": [
    "def plot_with_hpd(x, hazard, f, ax, color=None, label=None, alpha=0.05):\n",
    "    mean = f(hazard.mean(axis=0))\n",
    "\n",
    "    percentiles = 100 * np.array([alpha / 2., 1. - alpha / 2.])\n",
    "    hpd = np.percentile(f(hazard), percentiles, axis=0)\n",
    "\n",
    "    ax.fill_between(x, hpd[0], hpd[1], color=color, alpha=0.25)\n",
    "    ax.step(x, mean, color=color, label=label);\n",
    "    "
   ]
  },
  {
   "cell_type": "code",
   "execution_count": 36,
   "metadata": {},
   "outputs": [
    {
     "data": {
      "image/png": "[encoded data removed]",
      "text/plain": [
       "<matplotlib.figure.Figure at 0x7eff691a0208>"
      ]
     },
     "metadata": {},
     "output_type": "display_data"
    }
   ],
   "source": [
    "fig, (hazard_ax, surv_ax) = plt.subplots(ncols=2, sharex=True, sharey=False, figsize=(16, 6))\n",
    "\n",
    "plot_with_hpd(interval_bounds[:-1], base_hazard, cum_hazard,\n",
    "              hazard_ax, color=blue, label='Had not metastized')\n",
    "plot_with_hpd(interval_bounds[:-1], met_hazard, cum_hazard,\n",
    "              hazard_ax, color=red, label='Metastized')\n",
    "\n",
    "hazard_ax.set_xlim(0, df.time.max());\n",
    "hazard_ax.set_xlabel('Months since mastectomy');\n",
    "\n",
    "hazard_ax.set_ylabel(r'Cumulative hazard $\\Lambda(t)$');\n",
    "\n",
    "hazard_ax.legend(loc=2);\n",
    "\n",
    "plot_with_hpd(interval_bounds[:-1], base_hazard, survival,\n",
    "              surv_ax, color=blue)\n",
    "plot_with_hpd(interval_bounds[:-1], met_hazard, survival,\n",
    "              surv_ax, color=red)\n",
    "\n",
    "surv_ax.set_xlim(0, df.time.max());\n",
    "surv_ax.set_xlabel('Months since mastectomy');\n",
    "\n",
    "surv_ax.set_ylabel('Survival function $S(t)$');\n",
    "\n",
    "fig.suptitle('Bayesian survival model');\n",
    "plt.show()"
   ]
  },
  {
   "cell_type": "markdown",
   "metadata": {},
   "source": [
    "We see that the cumulative hazard for metastized subjects increases more rapidly initially (through about seventy months), after which it increases roughly in parallel with the baseline cumulative hazard.\n",
    "\n",
    "These plots also show the pointwise 95% high posterior density interval for each function. One of the distinct advantages of the Bayesian model fit with pymc3 is the inherent quantification of uncertainty in our estimates."
   ]
  },
  {
   "cell_type": "code",
   "execution_count": null,
   "metadata": {
    "collapsed": true
   },
   "outputs": [],
   "source": []
  },
  {
   "cell_type": "code",
   "execution_count": null,
   "metadata": {
    "collapsed": true
   },
   "outputs": [],
   "source": []
  },
  {
   "cell_type": "code",
   "execution_count": null,
   "metadata": {
    "collapsed": true
   },
   "outputs": [],
   "source": []
  },
  {
   "cell_type": "code",
   "execution_count": null,
   "metadata": {
    "collapsed": true
   },
   "outputs": [],
   "source": []
  },
  {
   "cell_type": "code",
   "execution_count": null,
   "metadata": {
    "collapsed": true
   },
   "outputs": [],
   "source": []
  },
  {
   "cell_type": "code",
   "execution_count": null,
   "metadata": {
    "collapsed": true
   },
   "outputs": [],
   "source": []
  }
 ],
 "metadata": {
  "kernelspec": {
   "display_name": "Python 3",
   "language": "python",
   "name": "python3"
  },
  "language_info": {
   "codemirror_mode": {
    "name": "ipython",
    "version": 3
   },
   "file_extension": ".py",
   "mimetype": "text/x-python",
   "name": "python",
   "nbconvert_exporter": "python",
   "pygments_lexer": "ipython3",
   "version": "3.6.2"
  }
 },
 "nbformat": 4,
 "nbformat_minor": 2
}

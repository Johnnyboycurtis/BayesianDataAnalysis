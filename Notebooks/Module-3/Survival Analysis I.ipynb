{
 "cells": [
  {
   "cell_type": "code",
   "execution_count": 1,
   "metadata": {},
   "outputs": [
    {
     "name": "stdout",
     "output_type": "stream",
     "text": [
      "now importing: \n",
      "1. numpy as np \n",
      "2. from scipy import stats\n",
      "\n",
      "\n",
      "now importing: \n",
      "3. matplotlib.pyplot as plt\n",
      "\n"
     ]
    }
   ],
   "source": [
    "import sys\n",
    "sys.path.append(\"../../\")\n",
    "from BDA.stats import *\n",
    "from BDA.plots import *"
   ]
  },
  {
   "cell_type": "markdown",
   "metadata": {},
   "source": [
    "Survival analysis is the data analysis of time to event data such as death/failure. This type of data can be (i) time until death after diagnosis of disease, (ii) time until a set of lightbulbs burn out.\n",
    "\n",
    "The analysis of this data focuses on summarizing the main features of the distribution, such as median and other percentiles of time to failure, and on examining the effects of explanatory variables. Data on times until failure, or more optimistically, duration of survival or survival times, have two important features:\n",
    "\n",
    "a. times are positive (non-negative) and typically have skewed distributions with long tails (think exponential distribution)\n",
    "\n",
    "b. some of the subjects may survive beyond the study period (or period of observation). Some subjects may drop-out before we are able to observe how long they survive; we may only partially observe these subjects\n",
    "\n",
    "c. Another type of censoring is when a person's true survival time is less than what we observed. Say a person caught a disease months before actually diagnosed.\n",
    "\n",
    "Points b and c refer to left- and right-censoring. Censoring complicates all of the technical issues involved in analyzing the data. \n",
    "\n",
    "In "
   ]
  },
  {
   "cell_type": "code",
   "execution_count": 5,
   "metadata": {
    "collapsed": true
   },
   "outputs": [],
   "source": [
    "duration = rexp(1000)\n",
    "# help(rexp)"
   ]
  },
  {
   "cell_type": "code",
   "execution_count": 6,
   "metadata": {},
   "outputs": [
    {
     "data": {
      "image/png": "[encoded data removed]",
      "text/plain": [
       "<matplotlib.figure.Figure at 0x7fccfbd2ed30>"
      ]
     },
     "metadata": {},
     "output_type": "display_data"
    }
   ],
   "source": [
    "hist(duration, bins=20, title=\"Survival Times\", xlabel=\"time\", ylabel = \"Count\", density=False)"
   ]
  },
  {
   "cell_type": "code",
   "execution_count": 7,
   "metadata": {},
   "outputs": [
    {
     "name": "stdout",
     "output_type": "stream",
     "text": [
      "Help on function rexp in module BDA.stats:\n",
      "\n",
      "rexp(n, rate=None, loc=0, scale=1, log=False)\n",
      "\n"
     ]
    }
   ],
   "source": [
    "help(rexp)"
   ]
  },
  {
   "cell_type": "markdown",
   "metadata": {},
   "source": [
    "Since survival data are characterised by positive values and skewed distributions with long tails, we'll be looking at the Exponential, Weibull or Gamma distributions for our data models.\n",
    "\n",
    "A few things to consider:\n",
    "\n",
    "- time will refer to minutes, hours, days, years\n",
    "\n",
    "- event can refer to death, disease incidence, or any other event of interest\n",
    "\n",
    "- multiple events can be analyzed simultaneously; these types of models are refered to as competing risk models, but we will not delve into these models\n",
    "\n",
    "In survival analysis we usually refer to the time variable as survival time, because it gives the time that an individual has \"survived\" over some follow-up period. We also, typically refer to the event as a failure because the event of interst is usually some negative event like death.\n",
    "\n",
    "\n",
    "Most survival analyses must consider handling censored data. Essentially, for some groups of observations, we may not know the exact survival time.\n",
    "\n",
    "In our notation, we will denote the random variable with a capital *T* and the observed/specific time value with a lower case *t*.\n",
    "\n",
    "We denote the small letter d, $d \\in (0,1)$, as a random variable indicating censorship. That is, if $d = 1$, then the observation was censored (i.e. only partially observed)."
   ]
  },
  {
   "cell_type": "markdown",
   "metadata": {},
   "source": [
    "A focus for suvival analysis is in estimating the survivor function, $S(t)$, and the hazard function, $h(t)$.\n",
    "\n",
    "If we are talking about people, the survivor function is simply the probability that a person survives longer than some time $t$.\n",
    "\n",
    "$$\n",
    "S(t) = P(T > t) = 1 - F(t)\n",
    "$$\n",
    "\n",
    "and the hazard function is a rate function, defined as \n",
    "\n",
    "$$\n",
    "h(t) = \\lim_{\\delta t \\to 0}  \\frac{P(t \\leq T < t + \\delta t | T \\geq t)}{\\delta t}\n",
    "$$\n",
    "\n",
    "The relationship between the survival function and hazard function can be written as\n",
    "\n",
    "$$\n",
    "S(t) = exp\\left[ - \\int_0^t h(u) du \\right]\n",
    "$$\n",
    "\n",
    "or\n",
    "\n",
    "$$\n",
    "h(t) = - \\left[ \\frac{d S(t)}{S(t)} \\right]\n",
    "$$\n",
    "\n",
    "\n",
    "The first formula describes how the survivor function equals the exponential of the negative integral of the hazard function between integration limits of 0 and t.\n",
    "\n",
    "The second describes how the hazard function equals negative the derivative of $S(t)$ with respec to t divided by $S(t)$.\n",
    "\n",
    "Thus, if you know either the survivor function or hazard function, you can estimate the other."
   ]
  },
  {
   "cell_type": "code",
   "execution_count": null,
   "metadata": {
    "collapsed": true
   },
   "outputs": [],
   "source": []
  }
 ],
 "metadata": {
  "kernelspec": {
   "display_name": "Python 3",
   "language": "python",
   "name": "python3"
  },
  "language_info": {
   "codemirror_mode": {
    "name": "ipython",
    "version": 3
   },
   "file_extension": ".py",
   "mimetype": "text/x-python",
   "name": "python",
   "nbconvert_exporter": "python",
   "pygments_lexer": "ipython3",
   "version": "3.6.2"
  }
 },
 "nbformat": 4,
 "nbformat_minor": 2
}

{
 "cells": [
  {
   "cell_type": "code",
   "execution_count": 1,
   "metadata": {},
   "outputs": [
    {
     "name": "stdout",
     "output_type": "stream",
     "text": [
      "now importing: \n",
      "1. numpy as np \n",
      "2. from scipy import stats\n",
      "\n",
      "\n",
      "now importing: \n",
      "3. matplotlib.pyplot as plt\n",
      "\n"
     ]
    }
   ],
   "source": [
    "import sys\n",
    "sys.path.append(\"../../\")\n",
    "from BDA.stats import *\n",
    "from BDA.plots import *"
   ]
  },
  {
   "cell_type": "markdown",
   "metadata": {},
   "source": [
    "Survival analysis is the data analysis of time to event data such as death/failure. This type of data can be (i) time until death after diagnosis of disease, (ii) time until a set of lightbulbs burn out.\n",
    "\n",
    "The analysis of this data focuses on summarizing the main features of the distribution, such as median and other percentiles of time to failure, and on examining the effects of explanatory variables. Data on times until failure, or more optimistically, duration of survival or survival times, have two important features:\n",
    "\n",
    "a. times are positive (non-negative) and typically have skewed distributions with long tails (think exponential distribution)\n",
    "\n",
    "b. some of the subjects may survive beyond the study period (or period of observation). Some subjects may drop-out before we are able to observe how long they survive; we may only partially observe these subjects\n",
    "\n",
    "c. Another type of censoring is when a person's true survival time is less than what we observed. Say a person caught a disease months before actually diagnosed.\n",
    "\n",
    "Points b and c refer to left- and right-censoring. Censoring complicates all of the technical issues involved in analyzing the data. \n",
    "\n",
    "In "
   ]
  },
  {
   "cell_type": "code",
   "execution_count": 2,
   "metadata": {
    "collapsed": true
   },
   "outputs": [],
   "source": [
    "duration = rexp(1000)\n",
    "# help(rexp)"
   ]
  },
  {
   "cell_type": "code",
   "execution_count": 3,
   "metadata": {},
   "outputs": [
    {
     "data": {
      "image/png": "[encoded data removed]",
      "text/plain": [
       "<matplotlib.figure.Figure at 0x7f360d6e4f28>"
      ]
     },
     "metadata": {},
     "output_type": "display_data"
    }
   ],
   "source": [
    "hist(duration, bins=20, title=\"Survival Times\", xlabel=\"time\", ylabel = \"Count\", density=False)"
   ]
  },
  {
   "cell_type": "code",
   "execution_count": 4,
   "metadata": {},
   "outputs": [
    {
     "name": "stdout",
     "output_type": "stream",
     "text": [
      "Help on function rexp in module BDA.stats:\n",
      "\n",
      "rexp(n, rate=None, loc=0, scale=1, log=False)\n",
      "\n"
     ]
    }
   ],
   "source": [
    "help(rexp)"
   ]
  },
  {
   "cell_type": "markdown",
   "metadata": {},
   "source": [
    "Since survival data are characterised by positive values and skewed distributions with long tails, we'll be looking at the Exponential, Weibull or Gamma distributions for our data models.\n",
    "\n",
    "A few things to consider:\n",
    "\n",
    "- time will refer to minutes, hours, days, years\n",
    "\n",
    "- event can refer to death, disease incidence, or any other event of interest\n",
    "\n",
    "- multiple events can be analyzed simultaneously; these types of models are refered to as competing risk models, but we will not delve into these models\n",
    "\n",
    "In survival analysis we usually refer to the time variable as survival time, because it gives the time that an individual has \"survived\" over some follow-up period. We also, typically refer to the event as a failure because the event of interst is usually some negative event like death.\n",
    "\n",
    "\n",
    "Most survival analyses must consider handling censored data. Essentially, for some groups of observations, we may not know the exact survival time.\n",
    "\n",
    "In our notation, we will denote the random variable with a capital *T* and the observed/specific time value with a lower case *t*.\n",
    "\n",
    "We denote the small letter d, $d \\in (0,1)$, as a random variable indicating censorship. That is, if $d = 1$, then the observation was censored (i.e. only partially observed)."
   ]
  },
  {
   "cell_type": "markdown",
   "metadata": {},
   "source": [
    "A focus for suvival analysis is in estimating the survivor function, $S(t)$, and the hazard function, $h(t)$.\n",
    "\n",
    "If we are talking about people, the survivor function is simply the probability that a person survives longer than some time $t$,\n",
    "\n",
    "$$\n",
    "S(t) = P(T > t) = 1 - F(t)\n",
    "$$\n",
    "\n",
    "Recall that\n",
    "\n",
    "$$\n",
    "F(t) = \\int_{0}^t f(u) du\n",
    "$$\n",
    "\n",
    "\n",
    "The hazard function is a rate function, defined as \n",
    "\n",
    "$$\n",
    "\\begin{aligned}\n",
    "h(t) & = \\lim_{\\delta t \\to 0}  \\frac{P(t \\leq T < t + \\delta t | T > t)}{\\delta t} \\\\\n",
    "\\ & =  \\lim_{\\delta t \\to 0}   \\frac{P(t \\leq T < t + \\delta t)}{\\delta t} \\times \\frac{1}{P(T > t)} \\\\\n",
    "\\ & =  \\lim_{\\delta t \\to 0}   \\frac{S(t + \\delta t) - S(t)}{\\delta t} \\times \\frac{1}{S(t)} \\\\\n",
    "\\ & = - \\frac{S'(t)}{S(t)}\\\\\n",
    "\\end{aligned}\n",
    "$$\n",
    "\n",
    "The relationship between the survival function and hazard function can be written as\n",
    "\n",
    "$$\n",
    "S(t) = exp\\left[ - \\int_0^t h(u) du \\right] = exp\\left[ - H(t) \\right]\n",
    "$$\n",
    "\n",
    "where $H(t) = \\int_0^t h(u) du$. The relationship between hazard and survival functions can also be written as\n",
    "\n",
    "$$\n",
    "h(t) = - \\left[ \\frac{d S(t)}{S(t)} \\right]\n",
    "$$\n",
    "\n",
    "\n",
    "The first formula describes how the survivor function equals the exponential of the negative integral of the hazard function between integration limits of 0 and t.\n",
    "\n",
    "The second describes how the hazard function equals negative the derivative of $S(t)$ with respec to t divided by $S(t)$.\n",
    "\n",
    "Thus, if you know either the survivor function or hazard function, you can estimate the other."
   ]
  },
  {
   "cell_type": "markdown",
   "metadata": {},
   "source": [
    "## Empirical surivifor function\n",
    "\n",
    "Just as we can estimate the empirical CDF, $\\hat{F}(t)$, we can estimate the empirical surivivor function $\\hat{S}(t)$.\n",
    "\n",
    "$$\n",
    "\\hat{S}(t_i) = \\prod_{j=1}^k \\left( \\frac{n_j - d_j}{n_j} \\right)\n",
    "$$\n",
    "\n",
    "So, for each time $t_i$, we are simply looking for the proportion of survivors.\n",
    "\n",
    "Consider the following example\n"
   ]
  },
  {
   "cell_type": "code",
   "execution_count": 5,
   "metadata": {
    "collapsed": true
   },
   "outputs": [],
   "source": [
    "from collections import namedtuple\n",
    "\n",
    "survival = namedtuple('Survival', ['time', 'censored'], verbose=False) ## set True if you want to see code\n",
    "\n",
    "times = [6, 6, 6, 6, 7, 9, 10, 10, 11, 13, 16,\n",
    "        17, 19, 20, 22, 23, 25, 32, 32, 34, 35]\n",
    "\n",
    "censored = [0, 0, 0, 1, 0, 1, 0, 1, 1, 0, 0,\n",
    "            1, 1, 1, 0, 0, 1, 1, 1, 1, 1]\n",
    "\n",
    "treated = [survival(t,d) for t,d in zip(times, censored)]"
   ]
  },
  {
   "cell_type": "code",
   "execution_count": 6,
   "metadata": {},
   "outputs": [
    {
     "data": {
      "text/plain": [
       "[Survival(time=6, censored=0),\n",
       " Survival(time=6, censored=0),\n",
       " Survival(time=6, censored=0),\n",
       " Survival(time=6, censored=1),\n",
       " Survival(time=7, censored=0),\n",
       " Survival(time=9, censored=1),\n",
       " Survival(time=10, censored=0),\n",
       " Survival(time=10, censored=1),\n",
       " Survival(time=11, censored=1),\n",
       " Survival(time=13, censored=0),\n",
       " Survival(time=16, censored=0),\n",
       " Survival(time=17, censored=1),\n",
       " Survival(time=19, censored=1),\n",
       " Survival(time=20, censored=1),\n",
       " Survival(time=22, censored=0),\n",
       " Survival(time=23, censored=0),\n",
       " Survival(time=25, censored=1),\n",
       " Survival(time=32, censored=1),\n",
       " Survival(time=32, censored=1),\n",
       " Survival(time=34, censored=1),\n",
       " Survival(time=35, censored=1)]"
      ]
     },
     "execution_count": 6,
     "metadata": {},
     "output_type": "execute_result"
    }
   ],
   "source": [
    "treated"
   ]
  },
  {
   "cell_type": "code",
   "execution_count": null,
   "metadata": {
    "collapsed": true
   },
   "outputs": [],
   "source": []
  },
  {
   "cell_type": "code",
   "execution_count": 9,
   "metadata": {},
   "outputs": [
    {
     "name": "stdout",
     "output_type": "stream",
     "text": [
      "(0, 6, 21, 0, 1.0)\n",
      "(6, 7, 21, 3, 0.857)\n",
      "(7, 10, 17, 1, 0.807)\n",
      "(10, 13, 15, 1, 0.753)\n",
      "(13, 16, 12, 1, 0.69)\n",
      "(16, 22, 11, 1, 0.627)\n",
      "(22, 23, 7, 1, 0.538)\n",
      "(23, inf, 6, 1, 0.448)\n"
     ]
    }
   ],
   "source": [
    "def KP_estimate(data, verbose=False):\n",
    "    ## create bins from non-censored data\n",
    "    tmp = list(set([x.time for x in treated if x.censored == 0]))\n",
    "    a = 0\n",
    "    bins = []\n",
    "    \n",
    "    while tmp:\n",
    "        b = tmp.pop(0)\n",
    "        bins.append((a,b))\n",
    "        a = b\n",
    "    bins.append((a, np.inf))\n",
    "    \n",
    "    total_survivors = []\n",
    "    surv_rate = 1\n",
    "    for a, b in bins:\n",
    "        alive, dead = check_alive(a,b, data, verbose=verbose)\n",
    "        surv_rate *= (1 - dead/alive)\n",
    "        total_survivors.append((a,b, alive, dead, round(surv_rate, 3)))\n",
    "    return total_survivors\n",
    "\n",
    "\n",
    "def check_alive(a, b, data, verbose = False):\n",
    "    dead = 0\n",
    "    alive = 0 ## previously alive\n",
    "    for time, censored in data:\n",
    "        result = (a <= time) and (time < b) and (censored == 0)\n",
    "        if result:\n",
    "            dead += 1\n",
    "        if time >= a:\n",
    "            alive +=1\n",
    "        if verbose:\n",
    "            print(f\"{a} - <{b}: ({time}, {censored}) : {alive}, {dead}\")\n",
    "    #print(alive, dead)\n",
    "    return (alive, dead)\n",
    "        \n",
    "\n",
    "KP_results = KP_estimate(treated, verbose=False) ## set true if you want to see detailed results\n",
    "\n",
    "[print(line) for line in KP_results];"
   ]
  },
  {
   "cell_type": "code",
   "execution_count": 11,
   "metadata": {},
   "outputs": [
    {
     "data": {
      "image/png": "[encoded data removed]",
      "text/plain": [
       "<matplotlib.figure.Figure at 0x7f360550e240>"
      ]
     },
     "metadata": {},
     "output_type": "display_data"
    }
   ],
   "source": [
    "from BDA import Survival\n",
    "\n",
    "surv = Survival.KaplanMeier(times, censored)\n",
    "surv.plot( method = 'step')"
   ]
  },
  {
   "cell_type": "code",
   "execution_count": null,
   "metadata": {
    "collapsed": true
   },
   "outputs": [],
   "source": []
  },
  {
   "cell_type": "code",
   "execution_count": null,
   "metadata": {
    "collapsed": true
   },
   "outputs": [],
   "source": []
  },
  {
   "cell_type": "code",
   "execution_count": null,
   "metadata": {
    "collapsed": true
   },
   "outputs": [],
   "source": []
  },
  {
   "cell_type": "markdown",
   "metadata": {
    "collapsed": true
   },
   "source": [
    "## Exponential distribution\n",
    "\n",
    "The simplest model for survival time $T$ is the exponential distribution with probability density function\n",
    "\n",
    "$$\n",
    "f(t | \\theta) = \\theta \\times e^{-\\theta t} \\text{ , } t \\geq 0 \\text{ , } \\theta > 0\n",
    "$$\n",
    "\n",
    "The cummulative distribution is \n",
    "\n",
    "$$\n",
    "F(t) = \\int_{0}^{t} \\theta \\times e^{-\\theta u} du = 1 - e^{- \\theta t}\n",
    "$$\n",
    "\n",
    "So the survivor function is $S(t) = 1 - F(t) = 1 - 1 + e^{- \\theta t} = e^{- \\theta t}$.\n",
    "\n",
    "The hazard function is $h(t) = \\theta$ and the cumulative hazard function is $H(t) = \\theta t$\n",
    "\n",
    "\n",
    "The benefit of using an exponential distribution is the *memoryless* (or lack of memory) property,\n",
    "\n",
    "$$\n",
    "P(T > t + \\mu | T > \\mu) =  P(T > t )\n",
    "$$\n"
   ]
  },
  {
   "cell_type": "markdown",
   "metadata": {},
   "source": [
    "## Proportional hazards models\n",
    "\n",
    "For an exponential distribution, the dependence of Y on explanatory variables could be modelled as \n",
    "\n",
    "$$\n",
    "E(Y) = \\mathbf{x}^T \\mathbf{\\beta}\n",
    "$$\n",
    "\n",
    "where $\\mathbf{x} = (x_0, ..., x_m)^T$ and $\\mathbf{\\beta} = (\\beta_0, ..., \\beta_m)$; $x_0 = 1$ is the bias term for the model matrix.\n",
    "\n",
    "To ensure that $\\theta > 0$, however, it is more common to use \n",
    "\n",
    "$$\n",
    "\\theta = exp(\\mathbf{x}^T \\mathbf{\\beta})\n",
    "$$\n",
    "\n",
    "In this case the hazard function has the multiplicative form \n",
    "\n",
    "$$\n",
    "h(t) = \\theta = exp(\\mathbf{x}^T \\mathbf{\\beta})\n",
    "$$\n",
    "\n",
    "\n",
    "\n",
    "The Cox Proportions Hazards model is generally written as\n",
    "\n",
    "$$\n",
    "h(t, \\mathbf{X}) = h_0(t) exp(\\mathbf{x}^T \\mathbf{\\beta})\n",
    "$$\n",
    "\n",
    "This model gives an expression for the hazard at time $t$ for an individual with a given specification of a set of explanatory variables denoted by the $\\mathbf{X}$\n",
    "\n",
    "\n",
    "The Cox model formula says that the hazard at time $t$ is the product of two quantities. The first of these, h0(t), is called the baseline hazard function. The second quantity is the exponential expression $e$ to the linear sum of $\\beta_i x_i$, where the sum is over the $p$ explanatory $X$ variables.\n",
    "\n",
    "\n",
    "\n",
    "\n",
    "\n",
    "More generally, models of the form \n",
    "\n",
    "$$\n",
    "h_1(t) = h_0(t) exp(\\mathbf{x}^T \\mathbf{\\beta})\n",
    "$$\n",
    "\n",
    "are called *proportional hazards models* and $h_0(t)$ is called the *baseline hazard*. $h_0(t)$ is the hazard function corresponding to the reference levels for all the explanatory variables over time $t$. For example, if our model had two covariates, $x_1:$ `has cat allergies` and $x_2$: `owns cat`. Then the baseline might be $x_1 = 0$ and $x_2 = 0$. This model gives an expression for the hazard at time t for an individual with a given specification of a set of explanatory vari- ables d\n",
    "\n",
    "\n",
    "An important feature of this formula, which concerns the proportional hazards (PH) assumption, is that the baseline hazard is a function of $t$, but does not involve the $X’s$ In contrast, the exponential expression shown here, involves the X’s, but does not involve $t$. The X’s here are time-independent.\n",
    "\n",
    "Extensions to the Cox PH model exist for time-dependent variables, but will not be covered here.\n",
    "\n",
    "The Cox model formula has the property that if all the X’s are equal to zero, the formula reduces to the baseline hazard function. That is, the exponential part of the formula becomes e to the zero, which is 1. This property of the Cox model is the reason why h0(t) is called the baseline functio\n",
    "\n",
    "\n"
   ]
  },
  {
   "cell_type": "markdown",
   "metadata": {
    "collapsed": true
   },
   "source": [
    "\n",
    "For a binary explanatory variable $x_j$, with 0 if the exposure/risk is absent and 1 if present, then the hazard ratio (HR), or relative risk over time,  is\n",
    "\n",
    "$$\n",
    "HR = \\frac{h_1(t | x_j = 1)}{h_0(t | x_j = 0)} = e^{\\beta_j}\n",
    "$$\n",
    "\n",
    "A one-unit change in a continuous explanatory variable $x_k$ will also result in the hazard ratio given above. For Bayesian methods, HR will be useful for building informative priors.\n",
    "\n"
   ]
  },
  {
   "cell_type": "code",
   "execution_count": null,
   "metadata": {
    "collapsed": true
   },
   "outputs": [],
   "source": []
  },
  {
   "cell_type": "code",
   "execution_count": null,
   "metadata": {
    "collapsed": true
   },
   "outputs": [],
   "source": []
  },
  {
   "cell_type": "code",
   "execution_count": null,
   "metadata": {
    "collapsed": true
   },
   "outputs": [],
   "source": []
  },
  {
   "cell_type": "code",
   "execution_count": null,
   "metadata": {
    "collapsed": true
   },
   "outputs": [],
   "source": []
  },
  {
   "cell_type": "code",
   "execution_count": null,
   "metadata": {
    "collapsed": true
   },
   "outputs": [],
   "source": []
  }
 ],
 "metadata": {
  "kernelspec": {
   "display_name": "Python 3",
   "language": "python",
   "name": "python3"
  },
  "language_info": {
   "codemirror_mode": {
    "name": "ipython",
    "version": 3
   },
   "file_extension": ".py",
   "mimetype": "text/x-python",
   "name": "python",
   "nbconvert_exporter": "python",
   "pygments_lexer": "ipython3",
   "version": "3.6.2"
  }
 },
 "nbformat": 4,
 "nbformat_minor": 2
}

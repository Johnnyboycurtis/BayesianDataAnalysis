{
 "cells": [
  {
   "cell_type": "markdown",
   "metadata": {},
   "source": [
    "## Bayesian Statistics"
   ]
  },
  {
   "cell_type": "markdown",
   "metadata": {},
   "source": [
    "Bayesian modeling augments information we obtain from data with subjectivity or prior beliefs."
   ]
  },
  {
   "cell_type": "markdown",
   "metadata": {},
   "source": [
    "The fundamental equation we'll be using in this course is [Bayes Theorem/Formula](http://www.math.cornell.edu/~mec/2008-2009/TianyiZheng/Bayes.html)\n",
    "\n",
    "$$\n",
    "p(\\theta | data ) = \\frac{p(data | \\theta ) p(\\theta)}{p(data)}\n",
    "$$\n",
    "\n",
    "In classical statistical methods, we make inference on some unknown parameter(s) $\\theta$ by using information only provided by data. With parameter estimation, we seek only to find 1 estimate with some window of confidence.\n",
    "\n",
    "\n",
    "In Bayesian methods we are looking for an entire distribution of $\\theta$ given the data, $p(\\theta | data)$ called the posterior of $\\theta$ given the data."
   ]
  },
  {
   "cell_type": "code",
   "execution_count": 18,
   "metadata": {},
   "outputs": [
    {
     "data": {
      "image/png": "[encoded data removed]",
      "text/plain": [
       "<matplotlib.figure.Figure at 0x7fb0a3dc8550>"
      ]
     },
     "metadata": {},
     "output_type": "display_data"
    }
   ],
   "source": [
    "import matplotlib.pyplot as plt\n",
    "import numpy as np\n",
    "\n",
    "x = np.random.normal(loc=0, scale=2, size=10000)\n",
    "\n",
    "plt.hist(bins='scott', x=x, normed=True)\n",
    "plt.title(r\"P($\\theta | data)$\")\n",
    "plt.xlabel(r\"$\\theta$\")\n",
    "plt.show()"
   ]
  },
  {
   "cell_type": "markdown",
   "metadata": {},
   "source": [
    "To a Bayesian, the best information one can ever have about $\\theta$ is to know the posterior density $p(\\theta |y)$. This is because from the posterior density we obtain all sorts of useful information like the mean, median, and credible intervals for our point estimates.\n",
    "\n",
    "\n",
    "Objectives:\n",
    "\n",
    "- Statistical modeling fundamentals\n",
    "\n",
    "- Mathematics behind statistical models\n",
    "\n",
    "- Understanding of priors\n",
    "\n",
    "- Computational methods for Bayesian Modeling"
   ]
  },
  {
   "cell_type": "code",
   "execution_count": null,
   "metadata": {
    "collapsed": true
   },
   "outputs": [],
   "source": []
  }
 ],
 "metadata": {
  "kernelspec": {
   "display_name": "Python 3",
   "language": "python",
   "name": "python3"
  },
  "language_info": {
   "codemirror_mode": {
    "name": "ipython",
    "version": 3
   },
   "file_extension": ".py",
   "mimetype": "text/x-python",
   "name": "python",
   "nbconvert_exporter": "python",
   "pygments_lexer": "ipython3",
   "version": "3.6.2"
  }
 },
 "nbformat": 4,
 "nbformat_minor": 2
}

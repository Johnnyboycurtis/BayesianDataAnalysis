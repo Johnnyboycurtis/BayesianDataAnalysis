{
 "cells": [
  {
   "cell_type": "markdown",
   "metadata": {},
   "source": [
    "# Introduction to Bayesian Statistics"
   ]
  },
  {
   "cell_type": "code",
   "execution_count": 6,
   "metadata": {},
   "outputs": [
    {
     "name": "stdout",
     "output_type": "stream",
     "text": [
      "now importing: \n",
      "3. matplotlib.pyplot as plt\n",
      "\n",
      "now importing: \n",
      "1. numpy as np \n",
      "2. from scipy import stats\n",
      "\n",
      "\n"
     ]
    }
   ],
   "source": [
    "#import numpy as np\n",
    "#import matplotlib.pyplot as plt\n",
    "#import pandas as pd\n",
    "#from scipy import stats\n",
    "\n",
    "import sys\n",
    "sys.path.append(\"../../\")\n",
    "\n",
    "from BDA.plots import *\n",
    "from BDA.stats import *"
   ]
  },
  {
   "cell_type": "code",
   "execution_count": null,
   "metadata": {
    "collapsed": true
   },
   "outputs": [],
   "source": []
  },
  {
   "cell_type": "markdown",
   "metadata": {},
   "source": [
    "If you've ever taken an introductory statistics course, you've probably been taught what is referred to as  \"classical statistics\" (or \"frequentist\"), a statistical perspective pioneered by Pearson and Neyman and others. Classical statistics relies on the idea of likelihood, and maximizing likelihood as a method of making inferences of unknown parameters.\n",
    "\n",
    "In this course we will explore an alternative theory, Bayesian statistics. \n",
    "\n",
    "The main difference between classical statistics is that given an unkown parameter $\\theta$, the classical perspective will treat this unkown variable as a fixed value that needs to be estimated. \n",
    "\n",
    "Bayesian theory would threat $\\theta$ as a random variable that can be described by a prior distribution $\\theta \\sim p(\\theta)$.\n",
    "\n",
    "Bayesian theory has been around for many years, however, it had not taken a strong foothold due to the inability to fully calculate complex posterior distributions. However, with the advancement of computation and Monte Carlo algorithms, it taken a foothold as a serious competing theory due to classical theory."
   ]
  },
  {
   "cell_type": "markdown",
   "metadata": {},
   "source": [
    "## Statistical Models\n",
    "\n",
    "\n",
    "One of the most important issues in statistical science is the construction of probabilisitc models that represent, or sufficiently approximate, the true generating mechanism of a phenomenon under study.\n",
    "\n",
    "Assume a random variable Y, called *response*, which follows a probabilistic rule with density or probability function $f | \\mathbf{\\theta})$.  Statistical models typically involve multiple observations (random variable), $y_1, ..., y_n \\sim f(y| \\mathbf{\\theta})$. Assume these random variables are independent and identically distributed (*i.i.d.*) by $f$. Here, $\\mathbf{\\theta}$ can represent many parameters such as $\\mathbf{\\theta} = (\\theta_1, ..., \\theta_p)^T$. However, in most simple problems, $p$ will just be one or two.\n",
    "\n",
    "We can describe a sample of these random variables with vector notation as $\\mathbf{y} = (y_1, ..., y_n)^T$ where *T* indicates transposing of the row vector so that y is an $n \\times 1$ column vector.\n",
    "\n",
    "The joint distribution of this random sample is \n",
    "$$\n",
    "L(\\mathbf{\\theta} | \\mathbf{y}) = f(\\mathbf{y} | \\mathbf{\\theta}) = \\prod_{i=1}^n f(y_i | \\mathbf{\\theta})\n",
    "$$\n",
    "\n",
    "This is also called the *likelihood* and contains the availble information provided by the observed sample.\n",
    "\n",
    "In most cases, when making inferences on $\\mathbf{\\theta}$, classical theory relies on only the information the likelihood provides. Bayesian statistics, however, begins with prior information about the distribution of $\\mathbf{\\theta} \\sim p(\\mathbf{\\theta})$. It uses Bayes' Theorem and the random data $\\mathbf{y}$, with sampling density $f(y | \\mathbf{\\theta})$, to update this information into a posterior density $p(\\mathbf{\\theta} | \\mathbf{y})$ that incorporates both the information from the likelilhood and prior.\n",
    "\n",
    "\n",
    "Bayes' Theorem tells us that \n",
    "\n",
    "$$\n",
    "\\begin{aligned}\n",
    "p(\\mathbf{\\theta} | \\mathbf{y}) = \\frac{f(y| \\mathbf{\\theta}) p(\\mathbf{\\theta})}{\\int f(y| \\mathbf{\\theta}) p(\\mathbf{\\theta}) d \\theta} = \\frac{\\text{likelihood} \\times \\text{prior}}{\\text{marginal}}\n",
    "\\end{aligned}\n",
    "$$\n"
   ]
  },
  {
   "cell_type": "markdown",
   "metadata": {},
   "source": [
    "## Bayes Theorem\n",
    "\n",
    "\n",
    "Bayes' Theorem relies on conditional probability. Suppose there is an event space \\{A, B, C, D\\}. We are trying to predict the probability of even B given current information. We are told that event A has occurred. Everything outside of A is then to no longer considered (ignore C, D). The probability of B given A is the joint probability of A and B occuring, divided by the probability of A.\n",
    "\n",
    "$$\n",
    "\\begin{aligned}\n",
    "P(B | A) & = \\frac{P(A \\cap B)}{P(A)} \\\\\n",
    "& = \\frac{P(A | B) P(B)}{P(A)} \\\\\n",
    "& = \\frac{P(A | B) P(B)}{P(A|B) P(B) + P(A | \\bar{B}) P(\\bar{B})}\n",
    "\\end{aligned}\n",
    "$$\n",
    "\n",
    "where $P(A) = P(A|B) P(B) + P(A | \\bar{B}) P(\\bar{B})$ refers to the *law of total probability*.\n",
    "\n",
    "The theorem is a direct result of two facts: first, in the numerator, from the definition of conditional probability  $P(B |A)P(A) = P(A \\cap B)$. And second, using the *law of total probability*.\n",
    "\n",
    "\n",
    "And in a simpler form, ignoring the scaling factor $P(A)$,\n",
    "\n",
    "$$\n",
    "\\begin{aligned}\n",
    "P(B | A) = & = \\frac{P(A | B) P(B)}{P(A)} \\propto P(A \\cap B)\n",
    "\\end{aligned}\n",
    "$$\n",
    "\n",
    "\n",
    "\n"
   ]
  },
  {
   "cell_type": "code",
   "execution_count": null,
   "metadata": {
    "collapsed": true
   },
   "outputs": [],
   "source": []
  },
  {
   "cell_type": "markdown",
   "metadata": {},
   "source": [
    "Of course, this is a quite simple example. \n",
    "\n",
    "Let's consider a situation where A is made up of multiple other events, such as $A = A_1 \\cup A_2 \\cup ... \\cup A_n$ for which each $A_i$ is independent of the others. Now, we are interested in the probability $P(A_i | B)$. Then, Bayes' Theorem provides the following expression\n",
    "\n",
    "$$\n",
    "\\displaystyle\n",
    "\\begin{aligned}\n",
    "P(A_i | B)  = \\frac{P(B | A_i) P(A_i)}{\\sum_{i=1}^{n} P(B | A_i) P(A_i)} \\propto P(B | A_i) P(A_i)\n",
    "\\end{aligned}\n",
    "$$\n",
    "\n",
    "The denominator, $\\sum_{i=1}^{n} P(B | A_i) P(A_i)$ , can be referred to as the *law of total probability*.\n",
    "\n",
    "\n",
    "\n",
    "Bayesian statistics differ from the classical statistical theory since all unkown parameters are considrered as random variable. For this reason, *prior distribituion* must be defined *a priori*. This prior distribution expresses the information available to the researcher before any \"data\" are involved in the statistical analysis. Interest lies in calcuation of the *posterior distribution* $f(\\mathbf{\\theta} | \\mathbf{y})$ of the parameters $\\mathbf{\\theta}$ given the observed data $\\mathbf{y}$. According to Bayes theorem, the posterior dis\n",
    "\n",
    "\n"
   ]
  },
  {
   "cell_type": "markdown",
   "metadata": {},
   "source": [
    "## Priors\n",
    "\n",
    "Bayesian data analysis relies on good choices of priors. For common models, a list of appropriate priors exists. Some of the simplest choices of priors are a class of priors known as [conjugate priors](https://en.wikipedia.org/wiki/Conjugate_prior#Table_of_conjugate_distributions). A list of priors has been linked.\n",
    "\n",
    "These priors are conjugate because they create posteriors related to the same family as the prior distribution.\n",
    "\n"
   ]
  },
  {
   "cell_type": "markdown",
   "metadata": {},
   "source": [
    "## Bayesian Model Building\n",
    "\n",
    "The general steps in model building for Bayesian inference can be described as follows:\n",
    "\n",
    "1. Identify the main variable of the problem (i.e. reponse variable) and its corresponding data\n",
    "\n",
    "2. FInd a distribution that adequately describes the response variable\n",
    "\n",
    "3. Identify other variables that may explain the variance of Y (i.e. covariates or explanatory variables)\n",
    "\n",
    "4. Build a structure for the parameters of the distribution\n",
    "\n",
    "5. Specify the prior distribution \n",
    "\n",
    "6. Write down the likelihood of the model\n",
    "\n",
    "7. Identify the posterior distribution using analytically, asymptotically, or simulation techniques\n",
    "\n",
    "8. Calculate posterior summaries and visualize the posterior distribution\n"
   ]
  },
  {
   "cell_type": "code",
   "execution_count": null,
   "metadata": {
    "collapsed": true
   },
   "outputs": [],
   "source": []
  },
  {
   "cell_type": "markdown",
   "metadata": {
    "collapsed": true
   },
   "source": [
    "## Example: Drugs in the workforce\n",
    "\n",
    "Suppose you're interested in assessing the proportion of employees at Company X who use drugs on the job. Let $\\theta$ be the proportion of employees using illicit drugs, and assume that a random sample of $n$ workers is taken. Each of the $n$ aggrees to anonymously provide test results for illegal drugs. Let $y = \\sum_{i=1}^n y_i =  3$ be the number of positive test results out of $n = 15$.\n",
    "\n",
    "The data obtained from the above study follows a binomial distribution; an employee either uses illegal drugs or does not."
   ]
  },
  {
   "cell_type": "markdown",
   "metadata": {},
   "source": [
    "Let's use a use a [beta distribution](https://en.wikipedia.org/wiki/Beta_distribution) for our prior distribution. The beta distribution is [conjugate](https://en.wikipedia.org/wiki/Conjugate_prior#Discrete_distributions) with the bernoulli and binomial distributions.\n",
    "\n",
    "Assume that from [historical data](https://www.cdc.gov/nchs/fastats/drug-use-illegal.htm) that the average probability is about 10%. So a Beta(3.4, 30) would be suitible."
   ]
  },
  {
   "cell_type": "code",
   "execution_count": 33,
   "metadata": {},
   "outputs": [
    {
     "name": "stdout",
     "output_type": "stream",
     "text": [
      "Maximum Likelihood Estimate: θ = 0.2\n"
     ]
    }
   ],
   "source": [
    "## data\n",
    "n = 15\n",
    "y = 3 ## total sum of all y_i's\n",
    "print(f\"Maximum Likelihood Estimate: \\u03B8 = {y/n}\") \n",
    "## \\u03B8 is unicode for theta"
   ]
  },
  {
   "cell_type": "markdown",
   "metadata": {
    "collapsed": true
   },
   "source": [
    "### Data model\n",
    "\n",
    "$y_i \\sim Bernoilli(\\theta)$ and $\\theta \\sim \\beta(a = 3.4, b = 30)$ \n",
    "\n",
    "The Beta(3.4, 30) distribution has a mean of 0.1017964.\n",
    "\n",
    "The likelihood is\n",
    "\n",
    "$$\n",
    "\\begin{aligned}\n",
    "L(\\theta | \\mathbf{y}) & = \\prod_{i=1}^n f(y_i | \\theta) \\\\\n",
    "\\ & =  \\prod_{i=1}^n \\theta^{y_i} (1 - \\theta)^{1 - y} = \\theta^{\\sum_i^n y_i} (1 - \\theta)^{n - \\sum_i^n y_i}\n",
    "\\end{aligned}\n",
    "$$\n",
    "\n",
    "\n",
    "The posterior distribution is then\n",
    "\n",
    "$$\n",
    "\\begin{aligned}\n",
    "P(\\theta | \\mathbf{y}) & \\propto  L(\\theta | \\mathbf{y}) P(\\theta | a = 4, b = 3) \\\\\n",
    "\\ & = \\theta^{\\sum_i^n y_i} (1 - \\theta)^{n - \\sum_i^n y_i} \\times \\frac{\\Gamma(a) \\Gamma(b)}{\\Gamma(a + b)} \\theta^{a - 1} (1 - \\theta)^{b - 1} \\\\\n",
    "\\ & =  \\frac{\\Gamma(a) \\Gamma(b)}{\\Gamma(a + b)} \\times \\theta^{\\sum_i^n y_i + a - 1} (1 - \\theta)^{n - \\sum_i^n y_i + b - 1} \\\\\n",
    "\\ & \\propto Beta(\\sum_i^n y_i + a , n - \\sum_i^n y_i + b)\n",
    "\\end{aligned}\n",
    "$$\n",
    "\n",
    "\n",
    "Thus, our posterior distribution is $Beta(2 + 3.4 , 15 - 2 + 30) = Beta(5.4 , 43)$. This data model is called Beta-Binomial distribution."
   ]
  },
  {
   "cell_type": "code",
   "execution_count": 8,
   "metadata": {},
   "outputs": [],
   "source": [
    "dbeta = stats.beta.pdf\n",
    "rbeta = lambda n, a, b: np.random.beta(size = n, a  = a, b = b )"
   ]
  },
  {
   "cell_type": "code",
   "execution_count": 9,
   "metadata": {
    "collapsed": true
   },
   "outputs": [],
   "source": [
    "help(rbeta) "
   ]
  },
  {
   "cell_type": "code",
   "execution_count": 20,
   "metadata": {
    "collapsed": true
   },
   "outputs": [],
   "source": [
    "posterior = rbeta(n=10000, a = 5.4, b = 43)"
   ]
  },
  {
   "cell_type": "code",
   "execution_count": 21,
   "metadata": {},
   "outputs": [
    {
     "data": {
      "image/png": "[encoded data removed]",
      "text/plain": [
       "<matplotlib.figure.Figure at 0x7febe46ae278>"
      ]
     },
     "metadata": {},
     "output_type": "display_data"
    }
   ],
   "source": [
    "x = np.linspace(start=0, stop = 1, num=1000)\n",
    "lines(x, dbeta(x, a = 5.4, b = 43))\n",
    "hist(posterior, bins = 25, title = r\"$P(\\theta | \\mathbf{y})$\")\n"
   ]
  },
  {
   "cell_type": "code",
   "execution_count": 22,
   "metadata": {},
   "outputs": [
    {
     "name": "stdout",
     "output_type": "stream",
     "text": [
      " Min.: 0.0118\n",
      " 1st Qu.: 0.0786\n",
      " Median: 0.1056\n",
      " 3rd Qu.: 0.1383\n",
      " Max.: 0.3539\n",
      " Mean: 0.111\n"
     ]
    }
   ],
   "source": [
    "summary(posterior)"
   ]
  },
  {
   "cell_type": "code",
   "execution_count": 31,
   "metadata": {},
   "outputs": [
    {
     "data": {
      "text/plain": [
       "0.09482758620689656"
      ]
     },
     "execution_count": 31,
     "metadata": {},
     "output_type": "execute_result"
    }
   ],
   "source": [
    "## Since the Beta distribution is well known, \n",
    "## we can calculate the true statistics vs estimates\n",
    "\n",
    "## Mode:\n",
    "a = 5.4\n",
    "b = 43\n",
    "(a-1) / (a+b-2)"
   ]
  },
  {
   "cell_type": "code",
   "execution_count": 32,
   "metadata": {},
   "outputs": [
    {
     "data": {
      "text/plain": [
       "0.11157024793388431"
      ]
     },
     "execution_count": 32,
     "metadata": {},
     "output_type": "execute_result"
    }
   ],
   "source": [
    "## Mean:\n",
    "a/(a+b)"
   ]
  },
  {
   "cell_type": "code",
   "execution_count": null,
   "metadata": {
    "collapsed": true
   },
   "outputs": [],
   "source": []
  },
  {
   "cell_type": "markdown",
   "metadata": {},
   "source": [
    "From our analysis, we can see that the Bayesian estimate is not different from the overall population estimate, and much less than the maximum likelihood estimate of $\\theta$"
   ]
  },
  {
   "cell_type": "code",
   "execution_count": null,
   "metadata": {
    "collapsed": true
   },
   "outputs": [],
   "source": []
  }
 ],
 "metadata": {
  "kernelspec": {
   "display_name": "Python 3",
   "language": "python",
   "name": "python3"
  },
  "language_info": {
   "codemirror_mode": {
    "name": "ipython",
    "version": 3
   },
   "file_extension": ".py",
   "mimetype": "text/x-python",
   "name": "python",
   "nbconvert_exporter": "python",
   "pygments_lexer": "ipython3",
   "version": "3.6.2"
  }
 },
 "nbformat": 4,
 "nbformat_minor": 2
}

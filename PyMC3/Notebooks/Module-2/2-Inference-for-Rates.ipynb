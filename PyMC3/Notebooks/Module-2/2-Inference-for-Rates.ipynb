{
 "cells": [
  {
   "cell_type": "code",
   "execution_count": 1,
   "metadata": {},
   "outputs": [
    {
     "name": "stdout",
     "output_type": "stream",
     "text": [
      "now importing: \n",
      "1. numpy as np \n",
      "2. from scipy import stats\n",
      "\n",
      "\n",
      "now importing: \n",
      "3. matplotlib.pyplot as plt\n",
      "\n"
     ]
    }
   ],
   "source": [
    "import sys\n",
    "sys.path.append(\"../../\")\n",
    "\n",
    "\n",
    "from BDA.stats import *\n",
    "from BDA.plots import *"
   ]
  },
  {
   "cell_type": "markdown",
   "metadata": {
    "collapsed": true
   },
   "source": [
    "Consider the following data set. A population of women who were at least 21 years old, of Pima Indian heritage and living near Phoenix, Arizona, was tested for diabetes according to World Health Organization criteria. The data were collected by the US National Institute of Diabetes and Digestive and Kidney Diseases.\n",
    "\n",
    "We're interested in calculating the posterior distribution of the rate of pregnancies for these women.\n",
    "\n",
    "[Diabetes in Pima Indian Women](https://stat.ethz.ch/R-manual/R-devel/library/MASS/html/Pima.tr.html)"
   ]
  },
  {
   "cell_type": "code",
   "execution_count": 2,
   "metadata": {},
   "outputs": [
    {
     "data": {
      "text/html": [
       "<div>\n",
       "<style>\n",
       "    .dataframe thead tr:only-child th {\n",
       "        text-align: right;\n",
       "    }\n",
       "\n",
       "    .dataframe thead th {\n",
       "        text-align: left;\n",
       "    }\n",
       "\n",
       "    .dataframe tbody tr th {\n",
       "        vertical-align: top;\n",
       "    }\n",
       "</style>\n",
       "<table border=\"1\" class=\"dataframe\">\n",
       "  <thead>\n",
       "    <tr style=\"text-align: right;\">\n",
       "      <th></th>\n",
       "      <th>npreg</th>\n",
       "      <th>glu</th>\n",
       "      <th>bp</th>\n",
       "      <th>skin</th>\n",
       "      <th>bmi</th>\n",
       "      <th>ped</th>\n",
       "      <th>age</th>\n",
       "      <th>type</th>\n",
       "    </tr>\n",
       "  </thead>\n",
       "  <tbody>\n",
       "    <tr>\n",
       "      <th>1</th>\n",
       "      <td>5</td>\n",
       "      <td>86</td>\n",
       "      <td>68.0</td>\n",
       "      <td>28.0</td>\n",
       "      <td>30.2</td>\n",
       "      <td>0.364</td>\n",
       "      <td>24</td>\n",
       "      <td>No</td>\n",
       "    </tr>\n",
       "    <tr>\n",
       "      <th>2</th>\n",
       "      <td>7</td>\n",
       "      <td>195</td>\n",
       "      <td>70.0</td>\n",
       "      <td>33.0</td>\n",
       "      <td>25.1</td>\n",
       "      <td>0.163</td>\n",
       "      <td>55</td>\n",
       "      <td>Yes</td>\n",
       "    </tr>\n",
       "    <tr>\n",
       "      <th>3</th>\n",
       "      <td>5</td>\n",
       "      <td>77</td>\n",
       "      <td>82.0</td>\n",
       "      <td>41.0</td>\n",
       "      <td>35.8</td>\n",
       "      <td>0.156</td>\n",
       "      <td>35</td>\n",
       "      <td>No</td>\n",
       "    </tr>\n",
       "    <tr>\n",
       "      <th>4</th>\n",
       "      <td>0</td>\n",
       "      <td>165</td>\n",
       "      <td>76.0</td>\n",
       "      <td>43.0</td>\n",
       "      <td>47.9</td>\n",
       "      <td>0.259</td>\n",
       "      <td>26</td>\n",
       "      <td>No</td>\n",
       "    </tr>\n",
       "    <tr>\n",
       "      <th>5</th>\n",
       "      <td>0</td>\n",
       "      <td>107</td>\n",
       "      <td>60.0</td>\n",
       "      <td>25.0</td>\n",
       "      <td>26.4</td>\n",
       "      <td>0.133</td>\n",
       "      <td>23</td>\n",
       "      <td>No</td>\n",
       "    </tr>\n",
       "    <tr>\n",
       "      <th>6</th>\n",
       "      <td>5</td>\n",
       "      <td>97</td>\n",
       "      <td>76.0</td>\n",
       "      <td>27.0</td>\n",
       "      <td>35.6</td>\n",
       "      <td>0.378</td>\n",
       "      <td>52</td>\n",
       "      <td>Yes</td>\n",
       "    </tr>\n",
       "    <tr>\n",
       "      <th>7</th>\n",
       "      <td>3</td>\n",
       "      <td>83</td>\n",
       "      <td>58.0</td>\n",
       "      <td>31.0</td>\n",
       "      <td>34.3</td>\n",
       "      <td>0.336</td>\n",
       "      <td>25</td>\n",
       "      <td>No</td>\n",
       "    </tr>\n",
       "    <tr>\n",
       "      <th>8</th>\n",
       "      <td>1</td>\n",
       "      <td>193</td>\n",
       "      <td>50.0</td>\n",
       "      <td>16.0</td>\n",
       "      <td>25.9</td>\n",
       "      <td>0.655</td>\n",
       "      <td>24</td>\n",
       "      <td>No</td>\n",
       "    </tr>\n",
       "    <tr>\n",
       "      <th>9</th>\n",
       "      <td>3</td>\n",
       "      <td>142</td>\n",
       "      <td>80.0</td>\n",
       "      <td>15.0</td>\n",
       "      <td>32.4</td>\n",
       "      <td>0.200</td>\n",
       "      <td>63</td>\n",
       "      <td>No</td>\n",
       "    </tr>\n",
       "    <tr>\n",
       "      <th>10</th>\n",
       "      <td>2</td>\n",
       "      <td>128</td>\n",
       "      <td>78.0</td>\n",
       "      <td>37.0</td>\n",
       "      <td>43.3</td>\n",
       "      <td>1.224</td>\n",
       "      <td>31</td>\n",
       "      <td>Yes</td>\n",
       "    </tr>\n",
       "  </tbody>\n",
       "</table>\n",
       "</div>"
      ],
      "text/plain": [
       "    npreg  glu    bp  skin   bmi    ped  age type\n",
       "1       5   86  68.0  28.0  30.2  0.364   24   No\n",
       "2       7  195  70.0  33.0  25.1  0.163   55  Yes\n",
       "3       5   77  82.0  41.0  35.8  0.156   35   No\n",
       "4       0  165  76.0  43.0  47.9  0.259   26   No\n",
       "5       0  107  60.0  25.0  26.4  0.133   23   No\n",
       "6       5   97  76.0  27.0  35.6  0.378   52  Yes\n",
       "7       3   83  58.0  31.0  34.3  0.336   25   No\n",
       "8       1  193  50.0  16.0  25.9  0.655   24   No\n",
       "9       3  142  80.0  15.0  32.4  0.200   63   No\n",
       "10      2  128  78.0  37.0  43.3  1.224   31  Yes"
      ]
     },
     "execution_count": 2,
     "metadata": {},
     "output_type": "execute_result"
    }
   ],
   "source": [
    "import pandas as pd\n",
    "\n",
    "pima = pd.read_csv(\"../data/Pima.csv\", index_col = 0)\n",
    "pima.head(10)"
   ]
  },
  {
   "cell_type": "code",
   "execution_count": 3,
   "metadata": {},
   "outputs": [
    {
     "data": {
      "text/plain": [
       "count    632.000000\n",
       "mean       3.628165\n",
       "std        3.295201\n",
       "min        0.000000\n",
       "25%        1.000000\n",
       "50%        3.000000\n",
       "75%        6.000000\n",
       "max       17.000000\n",
       "Name: npreg, dtype: float64"
      ]
     },
     "execution_count": 3,
     "metadata": {},
     "output_type": "execute_result"
    }
   ],
   "source": [
    "pima['npreg'].describe()"
   ]
  },
  {
   "cell_type": "code",
   "execution_count": 4,
   "metadata": {},
   "outputs": [
    {
     "data": {
      "text/plain": [
       "2293"
      ]
     },
     "execution_count": 4,
     "metadata": {},
     "output_type": "execute_result"
    }
   ],
   "source": [
    "pima['npreg'].sum()"
   ]
  },
  {
   "cell_type": "markdown",
   "metadata": {},
   "source": [
    "In classical statistics, we'd find an estimate for $\\theta$ by finding an estimate of $\\theta$ that maximizes likelihood, $p(y|\\theta)$.\n",
    "\n",
    "This is done by \n",
    "\n",
    "\n",
    "First, obtain the likelihood function for $\\theta$ given $y$\n",
    "$$\n",
    "\\begin{aligned}\n",
    "L(\\theta | y) & = \\prod_{i=1}^n p(y_i | \\theta) \\\\\n",
    "& = \\prod_{i=1}^n \\frac{\\theta^{y_i} e^{- \\theta}}{y_i !} \\\\\n",
    "& = \\theta^{\\sum y_i} e^{- \\sum \\theta} \\prod_{i=1}^n \\frac{1}{y_i !} \\\\\n",
    "& = \\theta^{\\sum y_i} e^{-n \\theta} \\prod_{i=1}^n \\frac{1}{y_i !} \\\\\n",
    "\\end{aligned}\n",
    "$$\n",
    "\n",
    "\n",
    "Then take the (natural) log of the likelihood\n",
    "\n",
    "$$\n",
    "\\begin{aligned}\n",
    "log[L(\\theta | y)] & = log(\\theta^{\\sum y_i}) + log( e^{-n \\theta} ) + log( \\prod_{i=1}^n \\frac{1}{y_i !}) \\\\\n",
    "& = \\sum y_i log(\\theta) + -n \\theta + log( \\prod_{i=1}^n \\frac{1}{y_i !}) \\\\\n",
    "\\end{aligned}\n",
    "$$\n",
    "\n",
    "\n",
    "Then take the derivative of the log-likelihood and set it equal to zero in order to find the maxima\n",
    "\n",
    "$$\n",
    "\\begin{aligned}\n",
    "\\frac{d }{d\\theta} log[L(\\theta | y)] & = 0 \\\\\n",
    "\\frac{\\sum y_i}{\\theta}  -n  & = 0\\\\\n",
    "\\hat{\\theta} & = \\frac{\\sum y_i}{n}  = \\bar{y} \\\\\n",
    "\\end{aligned}\n",
    "$$\n",
    "\n"
   ]
  },
  {
   "cell_type": "markdown",
   "metadata": {},
   "source": [
    "The maximum likelihood estimate for $\\theta = \\hat{\\theta}$ is $\\bar{y}$. This gives us a parameter estimate of 3.628165, but that's it. Let's compare this with the results we obtain through a Bayesian methodology."
   ]
  },
  {
   "cell_type": "markdown",
   "metadata": {},
   "source": [
    "## Noninformative Prior\n",
    "\n",
    "Before seeing the data we had no information as to what the true value of $\\theta$ might be so for this analysis we'll use a flat prior $Gamma(0.0001, 0.0001)$.\n",
    "\n",
    "The number of samples is $n = 632$, and mean $\\bar{y} = 3.628$\n",
    "\n",
    "The posterior distribution for this problem is \n",
    "\n",
    "$$\n",
    "\\theta | y \\sim Gamma(a + n \\bar{y}, b + n) = Gamma(2293.0001, 632.0001)\n",
    "$$\n",
    "\n",
    "\n",
    "From this well defined distribution, we can obtain an estimate of $\\theta$ by using the mean. The mean for a Gamma(a,b) distribution is simply $a/b$\n",
    "\n",
    "$$\n",
    "\\hat{\\theta} = E(\\theta | y) = 2293.0001/632.0001 = 3.6281\n",
    "$$\n",
    "\n",
    "\n",
    "Well, we obtained the same information we would have had we simply used the MLE. So why choose the Bayesian methodology? Because we obtain a whole distribution as well!"
   ]
  },
  {
   "cell_type": "code",
   "execution_count": 5,
   "metadata": {},
   "outputs": [
    {
     "name": "stdout",
     "output_type": "stream",
     "text": [
      "Help on function dgamma in module BDA.stats:\n",
      "\n",
      "dgamma(x, shape, rate=None, scale=1, log=False)\n",
      "    The Gamma distribution with parameters ‘shape’ = a and ‘scale’ = s\n",
      "    has density\n",
      "    \n",
      "                   f(x)= 1/(s^a Gamma(a)) x^(a-1) e^-(x/s)\n",
      "                   \n",
      "    If you want to use a rate, simply pass `scale = 1/rate`\n",
      "\n"
     ]
    }
   ],
   "source": [
    "## the stats module in BDA has a function `dgamma` similar to R\n",
    "help(dgamma)"
   ]
  },
  {
   "cell_type": "code",
   "execution_count": 13,
   "metadata": {},
   "outputs": [
    {
     "data": {
      "image/png": "[encoded data removed]",
      "text/plain": [
       "<matplotlib.figure.Figure at 0x7f5d8d0d2a90>"
      ]
     },
     "metadata": {},
     "output_type": "display_data"
    }
   ],
   "source": [
    "x = np.linspace(start=1, stop=6, num=1000)\n",
    "rate = 632.0001\n",
    "y = dgamma(x=x, shape=2293.0001, rate=rate)\n",
    "\n",
    "plot(x=x, y=y, title=r\"Posterior of $\\theta$\", xlabel=r\"$\\theta$\", ylabel=r\"$p(\\theta | y)$\");"
   ]
  },
  {
   "cell_type": "markdown",
   "metadata": {},
   "source": [
    "## Informative Prior\n",
    "\n",
    "Now imagine that you had some previous knowledge of this population of women. Some researcher had suggested to you that the number of pregnancies previously seen was on average 4.5 and but this did not exceed 10 and they were 95% confident of this. Well, then you'd like to take this information and apply it to your analysis!\n",
    "\n",
    "Let's continue using the conjugate prior, Gamma(a,b). Now, let 4.5 be the mode for prior distribution and solve for a hyperparameter \n",
    "\n",
    "$$\n",
    "\\begin{aligned}\n",
    "\\theta_{mode} & = \\frac{a-1}{b} = 4.5 \\\\\n",
    "a = & 4.5 b\n",
    "\\end{aligned}\n",
    "$$\n",
    "\n",
    "We also obtained the following information\n",
    "\n",
    "$$\n",
    "\\begin{aligned}\n",
    "\\int_0^{10} p(\\theta | a,b) d\\theta = 0.95 \\\\\n",
    "= \\int_0^{10} p(\\theta | 1 + 4.5b, b) d\\theta & = 0.95\n",
    "\\end{aligned}\n",
    "$$\n",
    "\n",
    "\n",
    "Now, with this information, we do a simple linear search for all candidates of `b` until we find one that satisfies the above conditions!\n",
    "\n",
    "This has been provided in the function `priorGamma`"
   ]
  },
  {
   "cell_type": "code",
   "execution_count": 11,
   "metadata": {},
   "outputs": [
    {
     "name": "stdout",
     "output_type": "stream",
     "text": [
      "Help on function qgamma in module BDA.stats:\n",
      "\n",
      "qgamma(p, shape, rate=None, scale=1, lower_tail=True)\n",
      "    p: percentile (between 0 and 1)\n",
      "    \n",
      "    \n",
      "    lower_tail: logical; if True (default), probabilities are P[X <= x],\n",
      "          otherwise, P[X > x].\n",
      "          \n",
      "    The Gamma distribution with parameters ‘shape’ = a and ‘scale’ = s\n",
      "    has density\n",
      "    \n",
      "                   f(x)= 1/(s^a Gamma(a)) x^(a-1) e^-(x/s)\n",
      "                   \n",
      "    If you want to use a rate, simply pass `scale = 1/rate`\n",
      "\n"
     ]
    }
   ],
   "source": [
    "help(qgamma)"
   ]
  },
  {
   "cell_type": "code",
   "execution_count": 12,
   "metadata": {},
   "outputs": [
    {
     "name": "stdout",
     "output_type": "stream",
     "text": [
      "Help on function priorGamma in module BDA.stats:\n",
      "\n",
      "priorGamma(mode, b, quantile, alpha=0.95)\n",
      "    Searches for appropriate Gamma distribution\n",
      "    \n",
      "    mode: numeric value for mode\n",
      "    b: an array of potential rate parameters\n",
      "    quantile: a quantile for the Gamma distribution to match `alpha` confidence level\n",
      "    alpha: confidence level (usually 0.95)\n",
      "    \n",
      "    Returns (shape, rate)\n",
      "    To obtain scale, scale = 1/rate\n",
      "\n"
     ]
    }
   ],
   "source": [
    "help(priorGamma)"
   ]
  },
  {
   "cell_type": "code",
   "execution_count": 17,
   "metadata": {},
   "outputs": [
    {
     "name": "stdout",
     "output_type": "stream",
     "text": [
      "1.63455670567 0.14101260126\n"
     ]
    }
   ],
   "source": [
    "b = np.linspace(start=0.001, stop=100, num=10000)\n",
    "\n",
    "a, b = priorGamma(mode=4.5, b=b, quantile = 30, alpha=0.95)\n",
    "\n",
    "print(a, b)"
   ]
  },
  {
   "cell_type": "markdown",
   "metadata": {},
   "source": [
    "Thus, our prior distribution is $Gamma(1.635, 0.141)$ and posterior is \n",
    "\n",
    "$$\n",
    "\\theta | y \\sim Gamma(2294.635, 632.141)\n",
    "$$\n"
   ]
  },
  {
   "cell_type": "code",
   "execution_count": 18,
   "metadata": {},
   "outputs": [
    {
     "data": {
      "image/png": "[encoded data removed]",
      "text/plain": [
       "<matplotlib.figure.Figure at 0x7f5d8cf436d8>"
      ]
     },
     "metadata": {},
     "output_type": "display_data"
    }
   ],
   "source": [
    "x = np.linspace(start=1, stop=6, num=1000)\n",
    "\n",
    "y = dgamma(x=x, shape=2293.635, rate = 632.141)\n",
    "\n",
    "plot(x=x, y=y, title=r\"Posterior of $\\theta$\", xlabel=r\"$\\theta$\", ylabel=r\"$p(\\theta | y)$\");"
   ]
  },
  {
   "cell_type": "markdown",
   "metadata": {},
   "source": []
  },
  {
   "cell_type": "markdown",
   "metadata": {},
   "source": []
  }
 ],
 "metadata": {
  "kernelspec": {
   "display_name": "Python 3",
   "language": "python",
   "name": "python3"
  },
  "language_info": {
   "codemirror_mode": {
    "name": "ipython",
    "version": 3
   },
   "file_extension": ".py",
   "mimetype": "text/x-python",
   "name": "python",
   "nbconvert_exporter": "python",
   "pygments_lexer": "ipython3",
   "version": "3.6.2"
  }
 },
 "nbformat": 4,
 "nbformat_minor": 2
}
